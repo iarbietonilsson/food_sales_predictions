{
  "nbformat": 4,
  "nbformat_minor": 0,
  "metadata": {
    "colab": {
      "provenance": [],
      "authorship_tag": "ABX9TyN+DGploQkIEbDfbM649rqA",
      "include_colab_link": true
    },
    "kernelspec": {
      "name": "python3",
      "display_name": "Python 3"
    },
    "language_info": {
      "name": "python"
    }
  },
  "cells": [
    {
      "cell_type": "markdown",
      "metadata": {
        "id": "view-in-github",
        "colab_type": "text"
      },
      "source": [
        "<a href=\"https://colab.research.google.com/github/iarbietonilsson/food_sales_predictions/blob/main/DataScienceFoodSalesPredictions_Ingrid.ipynb\" target=\"_parent\"><img src=\"https://colab.research.google.com/assets/colab-badge.svg\" alt=\"Open In Colab\"/></a>"
      ]
    },
    {
      "cell_type": "markdown",
      "source": [
        "# Data Science Food Sales Predictions\n",
        "---\n",
        "\n",
        "*  ### Ingrid Arbieto Nelson"
      ],
      "metadata": {
        "id": "T1HKQrNPdcNd"
      }
    },
    {
      "cell_type": "markdown",
      "source": [
        "# **Project 1 - Parts 1 & 2**\n",
        "\n",
        "## Part 1\n",
        "\n",
        "This is an overview of the steps you will need to complete for part one of the project. There are more detailed instructions for each section following the overview.\n",
        "\n",
        "1) Create a GitHub Account\n",
        "\n",
        "2) Set up a GitHub repository that will house your first portfolio project.\n",
        "\n",
        "3) Add Markdown cells with your name and section headers to the notebook.\n",
        "\n",
        "4) Add the Google Colab Notebook to your GitHub repository.\n",
        "\n",
        "5) Submit the link to your GitHub repo!\n",
        "\n",
        "<br />\n",
        "\n",
        "\n",
        "***\n",
        "\n",
        "<br />\n",
        "\n",
        "## Part 2\n",
        "\n",
        "We will continue to work off of the GitHub repository you created last week for your first portfolio project. The goal of your portfolio projects are to have items to show potential employers that demonstrate your data science skills and competencies.\n",
        "\n",
        "The first project will be a sales prediction for food items sold at various stores. The goal of this is to help the retailer understand the properties of products and outlets that play crucial roles in increasing sales.\n",
        "\n",
        "<br />\n",
        "<center>\n",
        "\n",
        "![image](https://drive.google.com/uc?id=1KBhOlprSFdBN12iuVTLqHszs3NhCa3AH)\n",
        "\n",
        "</center>\n",
        "\n",
        "<br />\n",
        "\n",
        "For Part 2, your task is to use Pandas to load in the data and start exploring and cleaning it.  As data scientists, about [**80% of our time is spent on data preparation**](https://www.forbes.com/sites/gilpress/2016/03/23/data-preparation-most-time-consuming-least-enjoyable-data-science-task-survey-says/?sh=6d56cc4d6f63) - so this is a very important step!\n",
        "\n",
        "<br />\n",
        "\n",
        "*   Download the data using the link on the Learning Platform.\n",
        "    *   (Note: [Original data source](https://datahack.analyticsvidhya.com/contest/practice-problem-big-mart-sales-iii/)).\n",
        "*   Insert code below the heading \"Loading Data\"\n",
        "    *   Use Pandas to read the sales prediction data set into Google Colab.\n",
        "    *   Use df.info() and df.head() methods to preview the first rows of your data and a summary of your DataFrame's columns.\n",
        "*   Insert code below the heading \"Data Cleaning\"\n",
        "    *   Explore the data - what do you need to do to clean this data? Clean it!\n",
        "    *   Be sure to address each of the following tasks:\n",
        "\n",
        "        1) How many rows and columns?\n",
        "\n",
        "        2) What are the datatypes of each variable?\n",
        "\n",
        "        3) Are there duplicates? If so, drop any duplicates.\n",
        "\n",
        "        4) Identify missing values.\n",
        "\n",
        "        5) Decide on how to address the missing values and do it! (This requires your judgement, so explain your choice).\n",
        "\n",
        "        6) Confirm that there are no missing values after addressing them.\n",
        "\n",
        "        7) Find and fix any inconsistent categories of data (example: fix cat, Cat, and cats so that they are consistent).\n",
        "\n",
        "        8) For any numerical columns, obtain the summary statistics of each (min, max, mean).\n",
        "\n",
        "    Here are a few resources to help you consider more advanced ways to deal with missing values in your dataset (check out the optional additional Pandas resources at the end of this Chapter for more resources on this):\n",
        "    *   [Missing Data, its types, and statistical methods to deal with it.](https://medium.com/@raoufkeskes/missing-data-its-types-and-statistical-methods-to-deal-with-it-5cf8b71a443f#id_token=eyJhbGciOiJSUzI1NiIsImtpZCI6IjAyYTYxZWZkMmE0NGZjMjE1MTQ4ZDRlZmZjMzRkNmE3YjJhYzI2ZjAiLCJ0eXAiOiJKV1QifQ.eyJpc3MiOiJodHRwczovL2FjY291bnRzLmdvb2dsZS5jb20iLCJuYmYiOjE2NzE3OTQwNDcsImF1ZCI6IjIxNjI5NjAzNTgzNC1rMWs2cWUwNjBzMnRwMmEyamFtNGxqZGNtczAwc3R0Zy5hcHBzLmdvb2dsZXVzZXJjb250ZW50LmNvbSIsInN1YiI6IjExMjk4NTQyNDkxMTAxNjkzODM1NCIsImVtYWlsIjoic3dlZXRzYW1iYWdpcmxAZ21haWwuY29tIiwiZW1haWxfdmVyaWZpZWQiOnRydWUsImF6cCI6IjIxNjI5NjAzNTgzNC1rMWs2cWUwNjBzMnRwMmEyamFtNGxqZGNtczAwc3R0Zy5hcHBzLmdvb2dsZXVzZXJjb250ZW50LmNvbSIsIm5hbWUiOiJJbmdyaWQgTmVsc29uIiwicGljdHVyZSI6Imh0dHBzOi8vbGgzLmdvb2dsZXVzZXJjb250ZW50LmNvbS9hL0FFZEZUcDY3WnpyNEROZlQ3cHhjZ2xrZnZXUWs3SWx3MGszSDk2SG9WYmhqdEE9czk2LWMiLCJnaXZlbl9uYW1lIjoiSW5ncmlkIiwiZmFtaWx5X25hbWUiOiJOZWxzb24iLCJpYXQiOjE2NzE3OTQzNDcsImV4cCI6MTY3MTc5Nzk0NywianRpIjoiNTAwYWZhN2ZiN2M3MGUwMzBjNzJiMzQ2ZWNhZDFkZmEyOTJiN2ZlMiJ9.kZLlrhvJp0E2Rc1Kz_c4UjZ7De2E9D81MNlbouBxBJxglhhzU3ATfGO9ThjngyRmT6pDjF0JcYqmn8U-zEOEuy2PXWCGKPt056e0UYgvTAHqXR7bjbYNKWOV256ntYv2utaurDRT3d09SFO12Gh2Ou9pHvAvp-3YtrMHwQYdQFHuaedKfKSQDEad_38SbnFUIGYnMRfAJGBQpNEwz_11fMK2KnaKPMdFm9MVkWLh776r_t1GEvY-FYEvCcOvf_yQo0mzNdXA6HtPO_tNVVDj3BYCyvMKhHNdJXWUo9Y9EaQuGhF3DwvIVUP9dRecRIJoWpLclb8xoypfNIh6ID_iWQ)\n",
        "    *   [6 Different Ways to Compensate for Missing Values In a Dataset.](https://https://towardsdatascience.com/6-different-ways-to-compensate-for-missing-values-data-imputation-with-examples-6022d9ca0779)\n",
        "    *   [Dealing with missing data: Key assumptions and methods for applied analysis.](https://chrome-extension://efaidnbmnnnibpcajpcglclefindmkaj/https://www.bu.edu/sph/files/2014/05/Marina-tech-report.pdf)\n",
        "    *   Feel free to use any other resources or techniques you find online that you think are appropriate/useful.\n",
        "\n",
        "\n"
      ],
      "metadata": {
        "id": "lWjIWPiNolRe"
      }
    },
    {
      "cell_type": "markdown",
      "source": [
        "##Data Dictionary\n",
        "\n",
        "<center>\n",
        "\n",
        "![image](https://drive.google.com/uc?id=1kdsKuuQa6PA5zx6PcI_J7amlONsbFaXj)\n",
        "\n",
        "</center>"
      ],
      "metadata": {
        "id": "5sDnIF5DpqQL"
      }
    },
    {
      "cell_type": "markdown",
      "source": [
        "## Loading Data"
      ],
      "metadata": {
        "id": "ygeLoScqd9LY"
      }
    },
    {
      "cell_type": "code",
      "source": [
        "from google.colab import drive\n",
        "drive.mount('/content/drive')"
      ],
      "metadata": {
        "id": "1RZQwCOeeBqH",
        "colab": {
          "base_uri": "https://localhost:8080/"
        },
        "outputId": "513b5721-8aa3-4afd-8d9c-1c0de10d9547"
      },
      "execution_count": 54,
      "outputs": [
        {
          "output_type": "stream",
          "name": "stdout",
          "text": [
            "Drive already mounted at /content/drive; to attempt to forcibly remount, call drive.mount(\"/content/drive\", force_remount=True).\n"
          ]
        }
      ]
    },
    {
      "cell_type": "code",
      "source": [
        "# import libraries\n",
        "import pandas as pd\n",
        "import numpy as np\n",
        "import matplotlib.pyplot as plt\n",
        "import seaborn as sns"
      ],
      "metadata": {
        "id": "P8ujrr0CPqah"
      },
      "execution_count": 55,
      "outputs": []
    },
    {
      "cell_type": "code",
      "source": [
        "# load data\n",
        "url = 'https://docs.google.com/spreadsheets/d/e/2PACX-1vSZM_GiLJAcSH0K70Pp1eG_J_-wht9ScYsPsaJ9IstEA2OuEYpCi4_lk6KBLc99MIA0V97E-Hs-Z84y/pub?gid=415579051&single=true&output=csv'\n",
        "df = pd.read_csv(url)"
      ],
      "metadata": {
        "id": "FHaJ-ILZP_Su"
      },
      "execution_count": 56,
      "outputs": []
    },
    {
      "cell_type": "code",
      "source": [
        "# view header - 1st 5 rows\n",
        "df.head()\n"
      ],
      "metadata": {
        "colab": {
          "base_uri": "https://localhost:8080/",
          "height": 357
        },
        "id": "Nw7VbAcrQFhe",
        "outputId": "30b6ae3a-e1d5-4e06-9cca-6847931317db"
      },
      "execution_count": 57,
      "outputs": [
        {
          "output_type": "execute_result",
          "data": {
            "text/plain": [
              "  Item_Identifier  Item_Weight Item_Fat_Content  Item_Visibility  \\\n",
              "0           FDA15         9.30          Low Fat         0.016047   \n",
              "1           DRC01         5.92          Regular         0.019278   \n",
              "2           FDN15        17.50          Low Fat         0.016760   \n",
              "3           FDX07        19.20          Regular         0.000000   \n",
              "4           NCD19         8.93          Low Fat         0.000000   \n",
              "\n",
              "               Item_Type  Item_MRP Outlet_Identifier  \\\n",
              "0                  Dairy  249.8092            OUT049   \n",
              "1            Soft Drinks   48.2692            OUT018   \n",
              "2                   Meat  141.6180            OUT049   \n",
              "3  Fruits and Vegetables  182.0950            OUT010   \n",
              "4              Household   53.8614            OUT013   \n",
              "\n",
              "   Outlet_Establishment_Year Outlet_Size Outlet_Location_Type  \\\n",
              "0                       1999      Medium               Tier 1   \n",
              "1                       2009      Medium               Tier 3   \n",
              "2                       1999      Medium               Tier 1   \n",
              "3                       1998         NaN               Tier 3   \n",
              "4                       1987        High               Tier 3   \n",
              "\n",
              "         Outlet_Type  Item_Outlet_Sales  \n",
              "0  Supermarket Type1          3735.1380  \n",
              "1  Supermarket Type2           443.4228  \n",
              "2  Supermarket Type1          2097.2700  \n",
              "3      Grocery Store           732.3800  \n",
              "4  Supermarket Type1           994.7052  "
            ],
            "text/html": [
              "\n",
              "  <div id=\"df-8e225241-c227-4404-8106-cd56b14ab2e5\">\n",
              "    <div class=\"colab-df-container\">\n",
              "      <div>\n",
              "<style scoped>\n",
              "    .dataframe tbody tr th:only-of-type {\n",
              "        vertical-align: middle;\n",
              "    }\n",
              "\n",
              "    .dataframe tbody tr th {\n",
              "        vertical-align: top;\n",
              "    }\n",
              "\n",
              "    .dataframe thead th {\n",
              "        text-align: right;\n",
              "    }\n",
              "</style>\n",
              "<table border=\"1\" class=\"dataframe\">\n",
              "  <thead>\n",
              "    <tr style=\"text-align: right;\">\n",
              "      <th></th>\n",
              "      <th>Item_Identifier</th>\n",
              "      <th>Item_Weight</th>\n",
              "      <th>Item_Fat_Content</th>\n",
              "      <th>Item_Visibility</th>\n",
              "      <th>Item_Type</th>\n",
              "      <th>Item_MRP</th>\n",
              "      <th>Outlet_Identifier</th>\n",
              "      <th>Outlet_Establishment_Year</th>\n",
              "      <th>Outlet_Size</th>\n",
              "      <th>Outlet_Location_Type</th>\n",
              "      <th>Outlet_Type</th>\n",
              "      <th>Item_Outlet_Sales</th>\n",
              "    </tr>\n",
              "  </thead>\n",
              "  <tbody>\n",
              "    <tr>\n",
              "      <th>0</th>\n",
              "      <td>FDA15</td>\n",
              "      <td>9.30</td>\n",
              "      <td>Low Fat</td>\n",
              "      <td>0.016047</td>\n",
              "      <td>Dairy</td>\n",
              "      <td>249.8092</td>\n",
              "      <td>OUT049</td>\n",
              "      <td>1999</td>\n",
              "      <td>Medium</td>\n",
              "      <td>Tier 1</td>\n",
              "      <td>Supermarket Type1</td>\n",
              "      <td>3735.1380</td>\n",
              "    </tr>\n",
              "    <tr>\n",
              "      <th>1</th>\n",
              "      <td>DRC01</td>\n",
              "      <td>5.92</td>\n",
              "      <td>Regular</td>\n",
              "      <td>0.019278</td>\n",
              "      <td>Soft Drinks</td>\n",
              "      <td>48.2692</td>\n",
              "      <td>OUT018</td>\n",
              "      <td>2009</td>\n",
              "      <td>Medium</td>\n",
              "      <td>Tier 3</td>\n",
              "      <td>Supermarket Type2</td>\n",
              "      <td>443.4228</td>\n",
              "    </tr>\n",
              "    <tr>\n",
              "      <th>2</th>\n",
              "      <td>FDN15</td>\n",
              "      <td>17.50</td>\n",
              "      <td>Low Fat</td>\n",
              "      <td>0.016760</td>\n",
              "      <td>Meat</td>\n",
              "      <td>141.6180</td>\n",
              "      <td>OUT049</td>\n",
              "      <td>1999</td>\n",
              "      <td>Medium</td>\n",
              "      <td>Tier 1</td>\n",
              "      <td>Supermarket Type1</td>\n",
              "      <td>2097.2700</td>\n",
              "    </tr>\n",
              "    <tr>\n",
              "      <th>3</th>\n",
              "      <td>FDX07</td>\n",
              "      <td>19.20</td>\n",
              "      <td>Regular</td>\n",
              "      <td>0.000000</td>\n",
              "      <td>Fruits and Vegetables</td>\n",
              "      <td>182.0950</td>\n",
              "      <td>OUT010</td>\n",
              "      <td>1998</td>\n",
              "      <td>NaN</td>\n",
              "      <td>Tier 3</td>\n",
              "      <td>Grocery Store</td>\n",
              "      <td>732.3800</td>\n",
              "    </tr>\n",
              "    <tr>\n",
              "      <th>4</th>\n",
              "      <td>NCD19</td>\n",
              "      <td>8.93</td>\n",
              "      <td>Low Fat</td>\n",
              "      <td>0.000000</td>\n",
              "      <td>Household</td>\n",
              "      <td>53.8614</td>\n",
              "      <td>OUT013</td>\n",
              "      <td>1987</td>\n",
              "      <td>High</td>\n",
              "      <td>Tier 3</td>\n",
              "      <td>Supermarket Type1</td>\n",
              "      <td>994.7052</td>\n",
              "    </tr>\n",
              "  </tbody>\n",
              "</table>\n",
              "</div>\n",
              "      <button class=\"colab-df-convert\" onclick=\"convertToInteractive('df-8e225241-c227-4404-8106-cd56b14ab2e5')\"\n",
              "              title=\"Convert this dataframe to an interactive table.\"\n",
              "              style=\"display:none;\">\n",
              "        \n",
              "  <svg xmlns=\"http://www.w3.org/2000/svg\" height=\"24px\"viewBox=\"0 0 24 24\"\n",
              "       width=\"24px\">\n",
              "    <path d=\"M0 0h24v24H0V0z\" fill=\"none\"/>\n",
              "    <path d=\"M18.56 5.44l.94 2.06.94-2.06 2.06-.94-2.06-.94-.94-2.06-.94 2.06-2.06.94zm-11 1L8.5 8.5l.94-2.06 2.06-.94-2.06-.94L8.5 2.5l-.94 2.06-2.06.94zm10 10l.94 2.06.94-2.06 2.06-.94-2.06-.94-.94-2.06-.94 2.06-2.06.94z\"/><path d=\"M17.41 7.96l-1.37-1.37c-.4-.4-.92-.59-1.43-.59-.52 0-1.04.2-1.43.59L10.3 9.45l-7.72 7.72c-.78.78-.78 2.05 0 2.83L4 21.41c.39.39.9.59 1.41.59.51 0 1.02-.2 1.41-.59l7.78-7.78 2.81-2.81c.8-.78.8-2.07 0-2.86zM5.41 20L4 18.59l7.72-7.72 1.47 1.35L5.41 20z\"/>\n",
              "  </svg>\n",
              "      </button>\n",
              "      \n",
              "  <style>\n",
              "    .colab-df-container {\n",
              "      display:flex;\n",
              "      flex-wrap:wrap;\n",
              "      gap: 12px;\n",
              "    }\n",
              "\n",
              "    .colab-df-convert {\n",
              "      background-color: #E8F0FE;\n",
              "      border: none;\n",
              "      border-radius: 50%;\n",
              "      cursor: pointer;\n",
              "      display: none;\n",
              "      fill: #1967D2;\n",
              "      height: 32px;\n",
              "      padding: 0 0 0 0;\n",
              "      width: 32px;\n",
              "    }\n",
              "\n",
              "    .colab-df-convert:hover {\n",
              "      background-color: #E2EBFA;\n",
              "      box-shadow: 0px 1px 2px rgba(60, 64, 67, 0.3), 0px 1px 3px 1px rgba(60, 64, 67, 0.15);\n",
              "      fill: #174EA6;\n",
              "    }\n",
              "\n",
              "    [theme=dark] .colab-df-convert {\n",
              "      background-color: #3B4455;\n",
              "      fill: #D2E3FC;\n",
              "    }\n",
              "\n",
              "    [theme=dark] .colab-df-convert:hover {\n",
              "      background-color: #434B5C;\n",
              "      box-shadow: 0px 1px 3px 1px rgba(0, 0, 0, 0.15);\n",
              "      filter: drop-shadow(0px 1px 2px rgba(0, 0, 0, 0.3));\n",
              "      fill: #FFFFFF;\n",
              "    }\n",
              "  </style>\n",
              "\n",
              "      <script>\n",
              "        const buttonEl =\n",
              "          document.querySelector('#df-8e225241-c227-4404-8106-cd56b14ab2e5 button.colab-df-convert');\n",
              "        buttonEl.style.display =\n",
              "          google.colab.kernel.accessAllowed ? 'block' : 'none';\n",
              "\n",
              "        async function convertToInteractive(key) {\n",
              "          const element = document.querySelector('#df-8e225241-c227-4404-8106-cd56b14ab2e5');\n",
              "          const dataTable =\n",
              "            await google.colab.kernel.invokeFunction('convertToInteractive',\n",
              "                                                     [key], {});\n",
              "          if (!dataTable) return;\n",
              "\n",
              "          const docLinkHtml = 'Like what you see? Visit the ' +\n",
              "            '<a target=\"_blank\" href=https://colab.research.google.com/notebooks/data_table.ipynb>data table notebook</a>'\n",
              "            + ' to learn more about interactive tables.';\n",
              "          element.innerHTML = '';\n",
              "          dataTable['output_type'] = 'display_data';\n",
              "          await google.colab.output.renderOutput(dataTable, element);\n",
              "          const docLink = document.createElement('div');\n",
              "          docLink.innerHTML = docLinkHtml;\n",
              "          element.appendChild(docLink);\n",
              "        }\n",
              "      </script>\n",
              "    </div>\n",
              "  </div>\n",
              "  "
            ]
          },
          "metadata": {},
          "execution_count": 57
        }
      ]
    },
    {
      "cell_type": "markdown",
      "source": [
        "## Data Cleaning"
      ],
      "metadata": {
        "id": "Ho99la86eCJ-"
      }
    },
    {
      "cell_type": "markdown",
      "source": [
        "### **1 )  Size of Dataframe**\n",
        "\n",
        "Use df.shape() to determine how many rows and columns in the dataframe.\n",
        "*   There are 8,523 rows and 12 columns."
      ],
      "metadata": {
        "id": "8eV_RqoaeHEH"
      }
    },
    {
      "cell_type": "code",
      "source": [
        "df.shape"
      ],
      "metadata": {
        "colab": {
          "base_uri": "https://localhost:8080/"
        },
        "id": "H5qFu4mSQXTg",
        "outputId": "a8199f65-577d-4e49-f204-9e1841ebcdff"
      },
      "execution_count": 58,
      "outputs": [
        {
          "output_type": "execute_result",
          "data": {
            "text/plain": [
              "(8523, 12)"
            ]
          },
          "metadata": {},
          "execution_count": 58
        }
      ]
    },
    {
      "cell_type": "markdown",
      "source": [
        "### **2 ) Data Types**\n",
        "\n",
        "Check data types for each variable."
      ],
      "metadata": {
        "id": "JdYEMvwDR-C3"
      }
    },
    {
      "cell_type": "code",
      "source": [
        "df.dtypes"
      ],
      "metadata": {
        "colab": {
          "base_uri": "https://localhost:8080/"
        },
        "id": "Rj4PV32aSCk-",
        "outputId": "8fdd59b1-9c88-45f3-e8b5-c9d8897509ae"
      },
      "execution_count": 59,
      "outputs": [
        {
          "output_type": "execute_result",
          "data": {
            "text/plain": [
              "Item_Identifier               object\n",
              "Item_Weight                  float64\n",
              "Item_Fat_Content              object\n",
              "Item_Visibility              float64\n",
              "Item_Type                     object\n",
              "Item_MRP                     float64\n",
              "Outlet_Identifier             object\n",
              "Outlet_Establishment_Year      int64\n",
              "Outlet_Size                   object\n",
              "Outlet_Location_Type          object\n",
              "Outlet_Type                   object\n",
              "Item_Outlet_Sales            float64\n",
              "dtype: object"
            ]
          },
          "metadata": {},
          "execution_count": 59
        }
      ]
    },
    {
      "cell_type": "markdown",
      "source": [
        "### **3 )  Duplicates / Drop Irrelevant Data**\n",
        "\n",
        "#### **Duplicates**\n",
        "Drop any duplicates, i.e. data entries that are exactly the same across all columns.\n",
        "*   There are no duplicate data entries."
      ],
      "metadata": {
        "id": "g0XusFCpSujA"
      }
    },
    {
      "cell_type": "code",
      "source": [
        "# Check for duplicated data in Python\n",
        "df.duplicated().any()"
      ],
      "metadata": {
        "colab": {
          "base_uri": "https://localhost:8080/"
        },
        "id": "sSD7K1PASxjC",
        "outputId": "d9d5b328-71b9-4851-a01c-2de415ef5245"
      },
      "execution_count": 60,
      "outputs": [
        {
          "output_type": "execute_result",
          "data": {
            "text/plain": [
              "False"
            ]
          },
          "metadata": {},
          "execution_count": 60
        }
      ]
    },
    {
      "cell_type": "code",
      "source": [
        "# Count any duplicate entries\n",
        "df.duplicated().sum()"
      ],
      "metadata": {
        "colab": {
          "base_uri": "https://localhost:8080/"
        },
        "id": "qw96QwEDUhDq",
        "outputId": "92d98b6c-589c-4378-81b9-58dad2ed137f"
      },
      "execution_count": 61,
      "outputs": [
        {
          "output_type": "execute_result",
          "data": {
            "text/plain": [
              "0"
            ]
          },
          "metadata": {},
          "execution_count": 61
        }
      ]
    },
    {
      "cell_type": "markdown",
      "source": [
        "####**Drop Irrevalent Data** \n",
        "*such as*\n",
        "*   values that are unique in every row\n",
        "*   values that are identical across every row\n",
        "*   an Unnamed column (duplicate index)\n",
        "*   those that are irrevalent to the task at head\n",
        "\n",
        "<br />\n",
        "\n",
        "Item_Identifiers are unique item IDs, so good to eliminate, as unique in nearly every row, across 1000s of items. \n",
        "\n",
        "Outlet Identifiers are also unique, so will delete as well. \n",
        "\n",
        "Outlet Type and Outlet Establishment Year do not provide useful data relevant to food sales. \n",
        "\n",
        "* *Note these are judgement calls - see below analysis.*"
      ],
      "metadata": {
        "id": "qrTWPneIVMEI"
      }
    },
    {
      "cell_type": "markdown",
      "source": [
        "#### **Item_Identifier**"
      ],
      "metadata": {
        "id": "leU82Tdcai-a"
      }
    },
    {
      "cell_type": "code",
      "source": [
        "# See how many different values for Item_Identifier\n",
        "df['Item_Identifier'].value_counts()"
      ],
      "metadata": {
        "colab": {
          "base_uri": "https://localhost:8080/"
        },
        "id": "SGAFPvheXKCf",
        "outputId": "d5e2abb5-9d12-4372-bcd9-9abbf06f81a0"
      },
      "execution_count": 62,
      "outputs": [
        {
          "output_type": "execute_result",
          "data": {
            "text/plain": [
              "FDW13    10\n",
              "FDG33    10\n",
              "NCY18     9\n",
              "FDD38     9\n",
              "DRE49     9\n",
              "         ..\n",
              "FDY43     1\n",
              "FDQ60     1\n",
              "FDO33     1\n",
              "DRF48     1\n",
              "FDC23     1\n",
              "Name: Item_Identifier, Length: 1559, dtype: int64"
            ]
          },
          "metadata": {},
          "execution_count": 62
        }
      ]
    },
    {
      "cell_type": "code",
      "source": [
        "# how many unique item IDs\n",
        "itemID_length = len(df['Item_Identifier'].value_counts())"
      ],
      "metadata": {
        "id": "Ul2j5xZcZBwI"
      },
      "execution_count": 63,
      "outputs": []
    },
    {
      "cell_type": "code",
      "source": [
        "# show how many unique item IDs in readable format\n",
        "print(f'There are {itemID_length} unique items with irrevalent alphanumeric IDs, so good to delete.')"
      ],
      "metadata": {
        "colab": {
          "base_uri": "https://localhost:8080/"
        },
        "id": "dBrF4HD2Yfj3",
        "outputId": "39864c7c-16de-4881-c2d9-30e7b5c754eb"
      },
      "execution_count": 64,
      "outputs": [
        {
          "output_type": "stream",
          "name": "stdout",
          "text": [
            "There are 1559 unique items with irrevalent alphanumeric IDs, so good to delete.\n"
          ]
        }
      ]
    },
    {
      "cell_type": "markdown",
      "source": [
        "#### **Outlet_Identifier**"
      ],
      "metadata": {
        "id": "5sgvZ9EqavoI"
      }
    },
    {
      "cell_type": "code",
      "source": [
        "# See how many different values for Outlet_Identifier\n",
        "df['Outlet_Identifier'].value_counts()"
      ],
      "metadata": {
        "colab": {
          "base_uri": "https://localhost:8080/"
        },
        "id": "RBtHIhRYaBxR",
        "outputId": "79024a27-6cc1-45fb-863c-35c9f94133bf"
      },
      "execution_count": 65,
      "outputs": [
        {
          "output_type": "execute_result",
          "data": {
            "text/plain": [
              "OUT027    935\n",
              "OUT013    932\n",
              "OUT049    930\n",
              "OUT046    930\n",
              "OUT035    930\n",
              "OUT045    929\n",
              "OUT018    928\n",
              "OUT017    926\n",
              "OUT010    555\n",
              "OUT019    528\n",
              "Name: Outlet_Identifier, dtype: int64"
            ]
          },
          "metadata": {},
          "execution_count": 65
        }
      ]
    },
    {
      "cell_type": "code",
      "source": [
        "# how many outlet IDs\n",
        "outletID_length = len(df['Outlet_Identifier'].value_counts())\n",
        "outletID_length"
      ],
      "metadata": {
        "colab": {
          "base_uri": "https://localhost:8080/"
        },
        "id": "TozJ2lLPbGQh",
        "outputId": "215e04a8-a3a1-4eaa-be1f-9646184f82fa"
      },
      "execution_count": 66,
      "outputs": [
        {
          "output_type": "execute_result",
          "data": {
            "text/plain": [
              "10"
            ]
          },
          "metadata": {},
          "execution_count": 66
        }
      ]
    },
    {
      "cell_type": "code",
      "source": [
        "# display outlet ID results in readable format\n",
        "print(f'Although there are only {outletID_length} unique outlet IDs, these values seem irrevalent info.')\n",
        "print('There also are two more descriptive outlet types, seemingly more relevant to sales: outlet size and location!')"
      ],
      "metadata": {
        "colab": {
          "base_uri": "https://localhost:8080/"
        },
        "id": "f6-RuZh8bbSY",
        "outputId": "ea33f829-93ea-4eb1-a0c4-43cc7124c370"
      },
      "execution_count": 67,
      "outputs": [
        {
          "output_type": "stream",
          "name": "stdout",
          "text": [
            "Although there are only 10 unique outlet IDs, these values seem irrevalent info.\n",
            "There also are two more descriptive outlet types, seemingly more relevant to sales: outlet size and location!\n"
          ]
        }
      ]
    },
    {
      "cell_type": "markdown",
      "source": [
        "####**Outlet_Type**\n"
      ],
      "metadata": {
        "id": "8aECWw1GhH7D"
      }
    },
    {
      "cell_type": "code",
      "source": [
        "# See how many different values for Outlet_Type\n",
        "df['Outlet_Type'].value_counts()"
      ],
      "metadata": {
        "colab": {
          "base_uri": "https://localhost:8080/"
        },
        "id": "XIPDEPWjhvHd",
        "outputId": "a1a7e025-f3d1-4f59-e5c0-9b3432676dd1"
      },
      "execution_count": 68,
      "outputs": [
        {
          "output_type": "execute_result",
          "data": {
            "text/plain": [
              "Supermarket Type1    5577\n",
              "Grocery Store        1083\n",
              "Supermarket Type3     935\n",
              "Supermarket Type2     928\n",
              "Name: Outlet_Type, dtype: int64"
            ]
          },
          "metadata": {},
          "execution_count": 68
        }
      ]
    },
    {
      "cell_type": "code",
      "source": [
        "# how many outlet Types\n",
        "outlet_Type_length = len(df['Outlet_Type'].value_counts())"
      ],
      "metadata": {
        "id": "Pf40-2uoh_7y"
      },
      "execution_count": 69,
      "outputs": []
    },
    {
      "cell_type": "code",
      "source": [
        "# explain judgement call for eliminating Outlet_Type\n",
        "print(f\"Though there are only {outlet_Type_length} kinds of Outlet_Types, there's not much difference between a grocery store and a supermarket, so good to eliminate.\")"
      ],
      "metadata": {
        "colab": {
          "base_uri": "https://localhost:8080/"
        },
        "id": "Xc0x_CefiFnZ",
        "outputId": "cefcd700-a458-4803-88be-459650dc7b26"
      },
      "execution_count": 70,
      "outputs": [
        {
          "output_type": "stream",
          "name": "stdout",
          "text": [
            "Though there are only 4 kinds of Outlet_Types, there's not much difference between a grocery store and a supermarket, so good to eliminate.\n"
          ]
        }
      ]
    },
    {
      "cell_type": "markdown",
      "source": [
        "####**Outlet_Establishment_Year**"
      ],
      "metadata": {
        "id": "G3bnx_xkjQeN"
      }
    },
    {
      "cell_type": "code",
      "source": [
        "# See how many different values for Outlet_Type\n",
        "df['Outlet_Establishment_Year'].value_counts()"
      ],
      "metadata": {
        "colab": {
          "base_uri": "https://localhost:8080/"
        },
        "id": "68bjT3pKjXrN",
        "outputId": "21292605-051d-4668-bec8-4328d05ac3fa"
      },
      "execution_count": 71,
      "outputs": [
        {
          "output_type": "execute_result",
          "data": {
            "text/plain": [
              "1985    1463\n",
              "1987     932\n",
              "1999     930\n",
              "1997     930\n",
              "2004     930\n",
              "2002     929\n",
              "2009     928\n",
              "2007     926\n",
              "1998     555\n",
              "Name: Outlet_Establishment_Year, dtype: int64"
            ]
          },
          "metadata": {},
          "execution_count": 71
        }
      ]
    },
    {
      "cell_type": "code",
      "source": [
        "# how many different years established for outlets\n",
        "outlet_year_length = len(df['Outlet_Establishment_Year'].value_counts())"
      ],
      "metadata": {
        "id": "TJBUi-PGkQ4Q"
      },
      "execution_count": 72,
      "outputs": []
    },
    {
      "cell_type": "code",
      "source": [
        "# explain judgement call for eliminating Outlet_Establishment_Year\n",
        "print(f'Though only {outlet_year_length} different establishment years, this does not seem relevant to food sales.')"
      ],
      "metadata": {
        "colab": {
          "base_uri": "https://localhost:8080/"
        },
        "id": "asZtnjg9kUyh",
        "outputId": "90e3a9d1-e256-4644-b2eb-1b84da1b5652"
      },
      "execution_count": 73,
      "outputs": [
        {
          "output_type": "stream",
          "name": "stdout",
          "text": [
            "Though only 9 different establishment years, this does not seem relevant to food sales.\n"
          ]
        }
      ]
    },
    {
      "cell_type": "markdown",
      "source": [
        "####**Drop Irrevalent Columns**"
      ],
      "metadata": {
        "id": "aQH8AdNDlP5i"
      }
    },
    {
      "cell_type": "code",
      "source": [
        "df.drop(columns = ['Item_Identifier', 'Outlet_Identifier', 'Outlet_Type', 'Outlet_Establishment_Year'], inplace = True)"
      ],
      "metadata": {
        "id": "sdyixbyAlbxh"
      },
      "execution_count": 74,
      "outputs": []
    },
    {
      "cell_type": "code",
      "source": [
        "# check after dropping columns\n",
        "df.info()"
      ],
      "metadata": {
        "colab": {
          "base_uri": "https://localhost:8080/"
        },
        "id": "v6Y4zgRUlgL_",
        "outputId": "7c698298-1b4d-47a6-e1c9-83fca64a587d"
      },
      "execution_count": 75,
      "outputs": [
        {
          "output_type": "stream",
          "name": "stdout",
          "text": [
            "<class 'pandas.core.frame.DataFrame'>\n",
            "RangeIndex: 8523 entries, 0 to 8522\n",
            "Data columns (total 8 columns):\n",
            " #   Column                Non-Null Count  Dtype  \n",
            "---  ------                --------------  -----  \n",
            " 0   Item_Weight           7060 non-null   float64\n",
            " 1   Item_Fat_Content      8523 non-null   object \n",
            " 2   Item_Visibility       8523 non-null   float64\n",
            " 3   Item_Type             8523 non-null   object \n",
            " 4   Item_MRP              8523 non-null   float64\n",
            " 5   Outlet_Size           6113 non-null   object \n",
            " 6   Outlet_Location_Type  8523 non-null   object \n",
            " 7   Item_Outlet_Sales     8523 non-null   float64\n",
            "dtypes: float64(4), object(4)\n",
            "memory usage: 532.8+ KB\n"
          ]
        }
      ]
    },
    {
      "cell_type": "markdown",
      "source": [
        "#### **Variables Remaining**\n",
        "\n",
        "Note that I'm using my judgement with respect to food sales predictions, as I am not a subject matter expert. It is wise to consult with a SME to gain more insights into your data!\n",
        "\n",
        "Below are the reasons I chose to keep the remaining items:\n",
        "\n",
        "*   **Item Weight** - I chose to keep item weight, as heavier items may cost more. It may not be, but I'm not a SME on food sales.\n",
        "*   **Item Fat Content** - It may be interesting to compare diet food to yummy fat-full food.\n",
        "*   **Item Visibility** - If an item is highly visable, it seems more likely that the customer would buy it.\n",
        "*   **Item Type** - Which food item types sell more!\n",
        "*   **Item_MRP** - Sales price would definitely be relavant to sales.\n",
        "*   **Outlet Size** - How big an outlet is seems to relate to how much outlet could sell.\n",
        "*   **Outlet Location** - Location! Location! Location! - big part of sales\n",
        "*   **Item_Outlet_Sales** - Primary Sales datapoint!"
      ],
      "metadata": {
        "id": "gxDAdXY5l0Fz"
      }
    },
    {
      "cell_type": "markdown",
      "source": [
        "### **4 )  Identify missing values.**\n",
        "*   Item weight is missing for 1463 values (17.17%)\n",
        "*   Outlet size is missing for for 2410 values (28.28%)\n"
      ],
      "metadata": {
        "id": "mzoCfLwHmv2-"
      }
    },
    {
      "cell_type": "code",
      "source": [
        "# Tells number of na's in each column\n",
        "df.info()"
      ],
      "metadata": {
        "colab": {
          "base_uri": "https://localhost:8080/"
        },
        "id": "PEUw1uosnN0r",
        "outputId": "020d8849-8d31-4335-dd4e-921629407547"
      },
      "execution_count": 76,
      "outputs": [
        {
          "output_type": "stream",
          "name": "stdout",
          "text": [
            "<class 'pandas.core.frame.DataFrame'>\n",
            "RangeIndex: 8523 entries, 0 to 8522\n",
            "Data columns (total 8 columns):\n",
            " #   Column                Non-Null Count  Dtype  \n",
            "---  ------                --------------  -----  \n",
            " 0   Item_Weight           7060 non-null   float64\n",
            " 1   Item_Fat_Content      8523 non-null   object \n",
            " 2   Item_Visibility       8523 non-null   float64\n",
            " 3   Item_Type             8523 non-null   object \n",
            " 4   Item_MRP              8523 non-null   float64\n",
            " 5   Outlet_Size           6113 non-null   object \n",
            " 6   Outlet_Location_Type  8523 non-null   object \n",
            " 7   Item_Outlet_Sales     8523 non-null   float64\n",
            "dtypes: float64(4), object(4)\n",
            "memory usage: 532.8+ KB\n"
          ]
        }
      ]
    },
    {
      "cell_type": "code",
      "source": [
        "# Sums number of missing values per column\n",
        "df.isna().sum()"
      ],
      "metadata": {
        "colab": {
          "base_uri": "https://localhost:8080/"
        },
        "id": "noIR_BuZoMJ1",
        "outputId": "46ff62ea-65ca-4d1e-e13f-5bff53f2c1b6"
      },
      "execution_count": 77,
      "outputs": [
        {
          "output_type": "execute_result",
          "data": {
            "text/plain": [
              "Item_Weight             1463\n",
              "Item_Fat_Content           0\n",
              "Item_Visibility            0\n",
              "Item_Type                  0\n",
              "Item_MRP                   0\n",
              "Outlet_Size             2410\n",
              "Outlet_Location_Type       0\n",
              "Item_Outlet_Sales          0\n",
              "dtype: int64"
            ]
          },
          "metadata": {},
          "execution_count": 77
        }
      ]
    },
    {
      "cell_type": "code",
      "source": [
        "# show percentage of na values / total count of item\n",
        "df.isna().sum() / len(df) * 100"
      ],
      "metadata": {
        "colab": {
          "base_uri": "https://localhost:8080/"
        },
        "id": "gbt6zYUdoUpt",
        "outputId": "188e86ec-6e43-48fa-b254-ad8e76acd723"
      },
      "execution_count": 78,
      "outputs": [
        {
          "output_type": "execute_result",
          "data": {
            "text/plain": [
              "Item_Weight             17.165317\n",
              "Item_Fat_Content         0.000000\n",
              "Item_Visibility          0.000000\n",
              "Item_Type                0.000000\n",
              "Item_MRP                 0.000000\n",
              "Outlet_Size             28.276428\n",
              "Outlet_Location_Type     0.000000\n",
              "Item_Outlet_Sales        0.000000\n",
              "dtype: float64"
            ]
          },
          "metadata": {},
          "execution_count": 78
        }
      ]
    },
    {
      "cell_type": "markdown",
      "source": [
        "### **5 ) How to Address Missing Values**"
      ],
      "metadata": {
        "id": "x38B3Slro1kY"
      }
    },
    {
      "cell_type": "markdown",
      "source": [
        "For missing values, I could\n",
        "1.   **Drop the column**\n",
        "     *  ( _good rule of thumb < 5%_ )\n",
        "2.   **Impute the missing value**\n",
        "     *  many statitical methods\n",
        "     *  simpler one is to use median (_integers_), mean (_float_), mode (_category_)"
      ],
      "metadata": {
        "id": "X2LXfupypBu6"
      }
    },
    {
      "cell_type": "markdown",
      "source": [
        "#### **Item Weight**\n",
        "\n",
        "*   Item Weight is missing for 17.17% of values, so not minimal number of missing values.\n",
        "*   Chosen method - **Impute the missing value** with mean for _float_ value\n",
        "*   This does introduce errors into the dataset."
      ],
      "metadata": {
        "id": "zwe0DHLIqAQ9"
      }
    },
    {
      "cell_type": "code",
      "source": [
        "# fill missing values with mean for item weight\n",
        "df['Item_Weight'].fillna(value = df['Item_Weight'].mean(), inplace = True)\n"
      ],
      "metadata": {
        "id": "4VacsCeHqWfE"
      },
      "execution_count": 79,
      "outputs": []
    },
    {
      "cell_type": "markdown",
      "source": [
        "####**Outlet Size**\n",
        "*   Outlet Size has 28.28% missing values, not minimal.\n",
        "*   Chosen method - - **Impute the missing value** with mode for _category_ value\n",
        "*   This does introduce errors into the dataset."
      ],
      "metadata": {
        "id": "Zi3ZrvUhqjsW"
      }
    },
    {
      "cell_type": "code",
      "source": [
        "# Medium is the most common value\n",
        "df['Outlet_Size'].value_counts()"
      ],
      "metadata": {
        "colab": {
          "base_uri": "https://localhost:8080/"
        },
        "id": "UGHHuLyIq1T0",
        "outputId": "5f235383-0d57-4312-d92c-7611e75c8eb4"
      },
      "execution_count": 80,
      "outputs": [
        {
          "output_type": "execute_result",
          "data": {
            "text/plain": [
              "Medium    2793\n",
              "Small     2388\n",
              "High       932\n",
              "Name: Outlet_Size, dtype: int64"
            ]
          },
          "metadata": {},
          "execution_count": 80
        }
      ]
    },
    {
      "cell_type": "code",
      "source": [
        "# fill in with mode - most common value\n",
        "df['Outlet_Size'].fillna(value = 'Medium', inplace = True)"
      ],
      "metadata": {
        "id": "L4V6r_jdq6zt"
      },
      "execution_count": 81,
      "outputs": []
    },
    {
      "cell_type": "markdown",
      "source": [
        "### **6 ) Final check for Missing Values**\n",
        "\n",
        "Check the info on the dataframe to ensure there are no longer any missing values!!"
      ],
      "metadata": {
        "id": "A3FHA-pnrGpF"
      }
    },
    {
      "cell_type": "code",
      "source": [
        "# Check that all values filled in\n",
        "df.info()"
      ],
      "metadata": {
        "colab": {
          "base_uri": "https://localhost:8080/"
        },
        "id": "FMr_xwIirL5B",
        "outputId": "e57f74c6-dae7-4a83-c46d-12a30bbfa680"
      },
      "execution_count": 82,
      "outputs": [
        {
          "output_type": "stream",
          "name": "stdout",
          "text": [
            "<class 'pandas.core.frame.DataFrame'>\n",
            "RangeIndex: 8523 entries, 0 to 8522\n",
            "Data columns (total 8 columns):\n",
            " #   Column                Non-Null Count  Dtype  \n",
            "---  ------                --------------  -----  \n",
            " 0   Item_Weight           8523 non-null   float64\n",
            " 1   Item_Fat_Content      8523 non-null   object \n",
            " 2   Item_Visibility       8523 non-null   float64\n",
            " 3   Item_Type             8523 non-null   object \n",
            " 4   Item_MRP              8523 non-null   float64\n",
            " 5   Outlet_Size           8523 non-null   object \n",
            " 6   Outlet_Location_Type  8523 non-null   object \n",
            " 7   Item_Outlet_Sales     8523 non-null   float64\n",
            "dtypes: float64(4), object(4)\n",
            "memory usage: 532.8+ KB\n"
          ]
        }
      ]
    },
    {
      "cell_type": "markdown",
      "source": [
        "### **7 ) Find and fix any Inconsistent Categories of Data**\n",
        "\n",
        "**Numerical:**\n",
        "\n",
        "From data info above, floats look consistent:\n",
        "*   Item Weight\n",
        "*   Item Visability\n",
        "*   Item_MRP\n",
        "*   Item_Outlet_Sales\n",
        "\n",
        "**Categorical:**\n",
        "\n",
        "Next, check categorical values for inconsistent data.\n",
        "*   Only Item Fat Content has inconsistent values, per the data dictionary."
      ],
      "metadata": {
        "id": "RopfkQSVrqrD"
      }
    },
    {
      "cell_type": "markdown",
      "source": [
        "####**Item Fat Content**"
      ],
      "metadata": {
        "id": "33uVCiQussOw"
      }
    },
    {
      "cell_type": "code",
      "source": [
        "# values for item fat content\n",
        "df['Item_Fat_Content'].value_counts()"
      ],
      "metadata": {
        "colab": {
          "base_uri": "https://localhost:8080/"
        },
        "id": "fsMpCskoskNS",
        "outputId": "34bf0f1c-9adf-4076-b8e7-9dcf7a9899e8"
      },
      "execution_count": 83,
      "outputs": [
        {
          "output_type": "execute_result",
          "data": {
            "text/plain": [
              "Low Fat    5089\n",
              "Regular    2889\n",
              "LF          316\n",
              "reg         117\n",
              "low fat     112\n",
              "Name: Item_Fat_Content, dtype: int64"
            ]
          },
          "metadata": {},
          "execution_count": 83
        }
      ]
    },
    {
      "cell_type": "code",
      "source": [
        "# replace inconsistent values for item fat content\n",
        "df.replace(['LF','low fat'], ['Low Fat', 'Low Fat'], inplace = True)\n",
        "df.replace(['reg'], ['Regular'], inplace = True)"
      ],
      "metadata": {
        "id": "3Zhv5K9hspMf"
      },
      "execution_count": 84,
      "outputs": []
    },
    {
      "cell_type": "code",
      "source": [
        "# check after replacing for consistent values\n",
        "df['Item_Fat_Content'].value_counts()"
      ],
      "metadata": {
        "colab": {
          "base_uri": "https://localhost:8080/"
        },
        "id": "Z280Od3fs7Qu",
        "outputId": "3345e7b7-16fd-4163-a6b4-18d77108d322"
      },
      "execution_count": 85,
      "outputs": [
        {
          "output_type": "execute_result",
          "data": {
            "text/plain": [
              "Low Fat    5517\n",
              "Regular    3006\n",
              "Name: Item_Fat_Content, dtype: int64"
            ]
          },
          "metadata": {},
          "execution_count": 85
        }
      ]
    },
    {
      "cell_type": "markdown",
      "source": [
        "####**Item Type**"
      ],
      "metadata": {
        "id": "2hztyRc1tI4S"
      }
    },
    {
      "cell_type": "code",
      "source": [
        "# values for item type\n",
        "df['Item_Type'].value_counts()"
      ],
      "metadata": {
        "colab": {
          "base_uri": "https://localhost:8080/"
        },
        "id": "EnNYjWuOtHex",
        "outputId": "e4124578-a501-475f-b3fc-42f377bb1912"
      },
      "execution_count": 86,
      "outputs": [
        {
          "output_type": "execute_result",
          "data": {
            "text/plain": [
              "Fruits and Vegetables    1232\n",
              "Snack Foods              1200\n",
              "Household                 910\n",
              "Frozen Foods              856\n",
              "Dairy                     682\n",
              "Canned                    649\n",
              "Baking Goods              648\n",
              "Health and Hygiene        520\n",
              "Soft Drinks               445\n",
              "Meat                      425\n",
              "Breads                    251\n",
              "Hard Drinks               214\n",
              "Others                    169\n",
              "Starchy Foods             148\n",
              "Breakfast                 110\n",
              "Seafood                    64\n",
              "Name: Item_Type, dtype: int64"
            ]
          },
          "metadata": {},
          "execution_count": 86
        }
      ]
    },
    {
      "cell_type": "markdown",
      "source": [
        "####**Outlet Size**"
      ],
      "metadata": {
        "id": "iSpmqpTVtUvO"
      }
    },
    {
      "cell_type": "code",
      "source": [
        "#  values for outlet size\n",
        "df['Outlet_Size'].value_counts()"
      ],
      "metadata": {
        "colab": {
          "base_uri": "https://localhost:8080/"
        },
        "id": "Xlum-M3jtO83",
        "outputId": "c2348a20-56af-4258-f15f-1a55828872dc"
      },
      "execution_count": 87,
      "outputs": [
        {
          "output_type": "execute_result",
          "data": {
            "text/plain": [
              "Medium    5203\n",
              "Small     2388\n",
              "High       932\n",
              "Name: Outlet_Size, dtype: int64"
            ]
          },
          "metadata": {},
          "execution_count": 87
        }
      ]
    },
    {
      "cell_type": "markdown",
      "source": [
        "####**Outlet Location Type**"
      ],
      "metadata": {
        "id": "j1iowXeEtjyf"
      }
    },
    {
      "cell_type": "code",
      "source": [
        "# values for outlet location type\n",
        "df['Outlet_Location_Type'].value_counts()"
      ],
      "metadata": {
        "colab": {
          "base_uri": "https://localhost:8080/"
        },
        "id": "pWhrr-AztcCM",
        "outputId": "45e2cb40-183c-48d3-84a3-116664218d1e"
      },
      "execution_count": 88,
      "outputs": [
        {
          "output_type": "execute_result",
          "data": {
            "text/plain": [
              "Tier 3    3350\n",
              "Tier 2    2785\n",
              "Tier 1    2388\n",
              "Name: Outlet_Location_Type, dtype: int64"
            ]
          },
          "metadata": {},
          "execution_count": 88
        }
      ]
    },
    {
      "cell_type": "markdown",
      "source": [
        "### **8 ) For any numerical columns, obtain the summary statistics of each (min, max, mean).**"
      ],
      "metadata": {
        "id": "S6QgabQUtu-p"
      }
    },
    {
      "cell_type": "code",
      "source": [
        "# summary statistics for numerical values\n",
        "df.describe().round(2)"
      ],
      "metadata": {
        "colab": {
          "base_uri": "https://localhost:8080/",
          "height": 300
        },
        "id": "1L7gfCzyuIsD",
        "outputId": "d2bd4076-f5b3-4b5b-cc0b-58d23a82964c"
      },
      "execution_count": 89,
      "outputs": [
        {
          "output_type": "execute_result",
          "data": {
            "text/plain": [
              "       Item_Weight  Item_Visibility  Item_MRP  Item_Outlet_Sales\n",
              "count      8523.00          8523.00   8523.00            8523.00\n",
              "mean         12.86             0.07    140.99            2181.29\n",
              "std           4.23             0.05     62.28            1706.50\n",
              "min           4.56             0.00     31.29              33.29\n",
              "25%           9.31             0.03     93.83             834.25\n",
              "50%          12.86             0.05    143.01            1794.33\n",
              "75%          16.00             0.09    185.64            3101.30\n",
              "max          21.35             0.33    266.89           13086.96"
            ],
            "text/html": [
              "\n",
              "  <div id=\"df-be9c6901-4155-4bcd-bcce-f23214af6875\">\n",
              "    <div class=\"colab-df-container\">\n",
              "      <div>\n",
              "<style scoped>\n",
              "    .dataframe tbody tr th:only-of-type {\n",
              "        vertical-align: middle;\n",
              "    }\n",
              "\n",
              "    .dataframe tbody tr th {\n",
              "        vertical-align: top;\n",
              "    }\n",
              "\n",
              "    .dataframe thead th {\n",
              "        text-align: right;\n",
              "    }\n",
              "</style>\n",
              "<table border=\"1\" class=\"dataframe\">\n",
              "  <thead>\n",
              "    <tr style=\"text-align: right;\">\n",
              "      <th></th>\n",
              "      <th>Item_Weight</th>\n",
              "      <th>Item_Visibility</th>\n",
              "      <th>Item_MRP</th>\n",
              "      <th>Item_Outlet_Sales</th>\n",
              "    </tr>\n",
              "  </thead>\n",
              "  <tbody>\n",
              "    <tr>\n",
              "      <th>count</th>\n",
              "      <td>8523.00</td>\n",
              "      <td>8523.00</td>\n",
              "      <td>8523.00</td>\n",
              "      <td>8523.00</td>\n",
              "    </tr>\n",
              "    <tr>\n",
              "      <th>mean</th>\n",
              "      <td>12.86</td>\n",
              "      <td>0.07</td>\n",
              "      <td>140.99</td>\n",
              "      <td>2181.29</td>\n",
              "    </tr>\n",
              "    <tr>\n",
              "      <th>std</th>\n",
              "      <td>4.23</td>\n",
              "      <td>0.05</td>\n",
              "      <td>62.28</td>\n",
              "      <td>1706.50</td>\n",
              "    </tr>\n",
              "    <tr>\n",
              "      <th>min</th>\n",
              "      <td>4.56</td>\n",
              "      <td>0.00</td>\n",
              "      <td>31.29</td>\n",
              "      <td>33.29</td>\n",
              "    </tr>\n",
              "    <tr>\n",
              "      <th>25%</th>\n",
              "      <td>9.31</td>\n",
              "      <td>0.03</td>\n",
              "      <td>93.83</td>\n",
              "      <td>834.25</td>\n",
              "    </tr>\n",
              "    <tr>\n",
              "      <th>50%</th>\n",
              "      <td>12.86</td>\n",
              "      <td>0.05</td>\n",
              "      <td>143.01</td>\n",
              "      <td>1794.33</td>\n",
              "    </tr>\n",
              "    <tr>\n",
              "      <th>75%</th>\n",
              "      <td>16.00</td>\n",
              "      <td>0.09</td>\n",
              "      <td>185.64</td>\n",
              "      <td>3101.30</td>\n",
              "    </tr>\n",
              "    <tr>\n",
              "      <th>max</th>\n",
              "      <td>21.35</td>\n",
              "      <td>0.33</td>\n",
              "      <td>266.89</td>\n",
              "      <td>13086.96</td>\n",
              "    </tr>\n",
              "  </tbody>\n",
              "</table>\n",
              "</div>\n",
              "      <button class=\"colab-df-convert\" onclick=\"convertToInteractive('df-be9c6901-4155-4bcd-bcce-f23214af6875')\"\n",
              "              title=\"Convert this dataframe to an interactive table.\"\n",
              "              style=\"display:none;\">\n",
              "        \n",
              "  <svg xmlns=\"http://www.w3.org/2000/svg\" height=\"24px\"viewBox=\"0 0 24 24\"\n",
              "       width=\"24px\">\n",
              "    <path d=\"M0 0h24v24H0V0z\" fill=\"none\"/>\n",
              "    <path d=\"M18.56 5.44l.94 2.06.94-2.06 2.06-.94-2.06-.94-.94-2.06-.94 2.06-2.06.94zm-11 1L8.5 8.5l.94-2.06 2.06-.94-2.06-.94L8.5 2.5l-.94 2.06-2.06.94zm10 10l.94 2.06.94-2.06 2.06-.94-2.06-.94-.94-2.06-.94 2.06-2.06.94z\"/><path d=\"M17.41 7.96l-1.37-1.37c-.4-.4-.92-.59-1.43-.59-.52 0-1.04.2-1.43.59L10.3 9.45l-7.72 7.72c-.78.78-.78 2.05 0 2.83L4 21.41c.39.39.9.59 1.41.59.51 0 1.02-.2 1.41-.59l7.78-7.78 2.81-2.81c.8-.78.8-2.07 0-2.86zM5.41 20L4 18.59l7.72-7.72 1.47 1.35L5.41 20z\"/>\n",
              "  </svg>\n",
              "      </button>\n",
              "      \n",
              "  <style>\n",
              "    .colab-df-container {\n",
              "      display:flex;\n",
              "      flex-wrap:wrap;\n",
              "      gap: 12px;\n",
              "    }\n",
              "\n",
              "    .colab-df-convert {\n",
              "      background-color: #E8F0FE;\n",
              "      border: none;\n",
              "      border-radius: 50%;\n",
              "      cursor: pointer;\n",
              "      display: none;\n",
              "      fill: #1967D2;\n",
              "      height: 32px;\n",
              "      padding: 0 0 0 0;\n",
              "      width: 32px;\n",
              "    }\n",
              "\n",
              "    .colab-df-convert:hover {\n",
              "      background-color: #E2EBFA;\n",
              "      box-shadow: 0px 1px 2px rgba(60, 64, 67, 0.3), 0px 1px 3px 1px rgba(60, 64, 67, 0.15);\n",
              "      fill: #174EA6;\n",
              "    }\n",
              "\n",
              "    [theme=dark] .colab-df-convert {\n",
              "      background-color: #3B4455;\n",
              "      fill: #D2E3FC;\n",
              "    }\n",
              "\n",
              "    [theme=dark] .colab-df-convert:hover {\n",
              "      background-color: #434B5C;\n",
              "      box-shadow: 0px 1px 3px 1px rgba(0, 0, 0, 0.15);\n",
              "      filter: drop-shadow(0px 1px 2px rgba(0, 0, 0, 0.3));\n",
              "      fill: #FFFFFF;\n",
              "    }\n",
              "  </style>\n",
              "\n",
              "      <script>\n",
              "        const buttonEl =\n",
              "          document.querySelector('#df-be9c6901-4155-4bcd-bcce-f23214af6875 button.colab-df-convert');\n",
              "        buttonEl.style.display =\n",
              "          google.colab.kernel.accessAllowed ? 'block' : 'none';\n",
              "\n",
              "        async function convertToInteractive(key) {\n",
              "          const element = document.querySelector('#df-be9c6901-4155-4bcd-bcce-f23214af6875');\n",
              "          const dataTable =\n",
              "            await google.colab.kernel.invokeFunction('convertToInteractive',\n",
              "                                                     [key], {});\n",
              "          if (!dataTable) return;\n",
              "\n",
              "          const docLinkHtml = 'Like what you see? Visit the ' +\n",
              "            '<a target=\"_blank\" href=https://colab.research.google.com/notebooks/data_table.ipynb>data table notebook</a>'\n",
              "            + ' to learn more about interactive tables.';\n",
              "          element.innerHTML = '';\n",
              "          dataTable['output_type'] = 'display_data';\n",
              "          await google.colab.output.renderOutput(dataTable, element);\n",
              "          const docLink = document.createElement('div');\n",
              "          docLink.innerHTML = docLinkHtml;\n",
              "          element.appendChild(docLink);\n",
              "        }\n",
              "      </script>\n",
              "    </div>\n",
              "  </div>\n",
              "  "
            ]
          },
          "metadata": {},
          "execution_count": 89
        }
      ]
    },
    {
      "cell_type": "code",
      "source": [
        "# another way to show min, max, & mean\n",
        "summary_stats = df.describe()\n",
        "summary_stats.loc[['min','max','mean']]"
      ],
      "metadata": {
        "colab": {
          "base_uri": "https://localhost:8080/",
          "height": 143
        },
        "id": "bRsZHEhguR1I",
        "outputId": "00d31e9f-20e3-404c-acef-84c5f0bdc5d4"
      },
      "execution_count": 90,
      "outputs": [
        {
          "output_type": "execute_result",
          "data": {
            "text/plain": [
              "      Item_Weight  Item_Visibility    Item_MRP  Item_Outlet_Sales\n",
              "min      4.555000         0.000000   31.290000          33.290000\n",
              "max     21.350000         0.328391  266.888400       13086.964800\n",
              "mean    12.857645         0.066132  140.992782        2181.288914"
            ],
            "text/html": [
              "\n",
              "  <div id=\"df-43f6d09f-2aae-40a0-b61b-3b304200b24c\">\n",
              "    <div class=\"colab-df-container\">\n",
              "      <div>\n",
              "<style scoped>\n",
              "    .dataframe tbody tr th:only-of-type {\n",
              "        vertical-align: middle;\n",
              "    }\n",
              "\n",
              "    .dataframe tbody tr th {\n",
              "        vertical-align: top;\n",
              "    }\n",
              "\n",
              "    .dataframe thead th {\n",
              "        text-align: right;\n",
              "    }\n",
              "</style>\n",
              "<table border=\"1\" class=\"dataframe\">\n",
              "  <thead>\n",
              "    <tr style=\"text-align: right;\">\n",
              "      <th></th>\n",
              "      <th>Item_Weight</th>\n",
              "      <th>Item_Visibility</th>\n",
              "      <th>Item_MRP</th>\n",
              "      <th>Item_Outlet_Sales</th>\n",
              "    </tr>\n",
              "  </thead>\n",
              "  <tbody>\n",
              "    <tr>\n",
              "      <th>min</th>\n",
              "      <td>4.555000</td>\n",
              "      <td>0.000000</td>\n",
              "      <td>31.290000</td>\n",
              "      <td>33.290000</td>\n",
              "    </tr>\n",
              "    <tr>\n",
              "      <th>max</th>\n",
              "      <td>21.350000</td>\n",
              "      <td>0.328391</td>\n",
              "      <td>266.888400</td>\n",
              "      <td>13086.964800</td>\n",
              "    </tr>\n",
              "    <tr>\n",
              "      <th>mean</th>\n",
              "      <td>12.857645</td>\n",
              "      <td>0.066132</td>\n",
              "      <td>140.992782</td>\n",
              "      <td>2181.288914</td>\n",
              "    </tr>\n",
              "  </tbody>\n",
              "</table>\n",
              "</div>\n",
              "      <button class=\"colab-df-convert\" onclick=\"convertToInteractive('df-43f6d09f-2aae-40a0-b61b-3b304200b24c')\"\n",
              "              title=\"Convert this dataframe to an interactive table.\"\n",
              "              style=\"display:none;\">\n",
              "        \n",
              "  <svg xmlns=\"http://www.w3.org/2000/svg\" height=\"24px\"viewBox=\"0 0 24 24\"\n",
              "       width=\"24px\">\n",
              "    <path d=\"M0 0h24v24H0V0z\" fill=\"none\"/>\n",
              "    <path d=\"M18.56 5.44l.94 2.06.94-2.06 2.06-.94-2.06-.94-.94-2.06-.94 2.06-2.06.94zm-11 1L8.5 8.5l.94-2.06 2.06-.94-2.06-.94L8.5 2.5l-.94 2.06-2.06.94zm10 10l.94 2.06.94-2.06 2.06-.94-2.06-.94-.94-2.06-.94 2.06-2.06.94z\"/><path d=\"M17.41 7.96l-1.37-1.37c-.4-.4-.92-.59-1.43-.59-.52 0-1.04.2-1.43.59L10.3 9.45l-7.72 7.72c-.78.78-.78 2.05 0 2.83L4 21.41c.39.39.9.59 1.41.59.51 0 1.02-.2 1.41-.59l7.78-7.78 2.81-2.81c.8-.78.8-2.07 0-2.86zM5.41 20L4 18.59l7.72-7.72 1.47 1.35L5.41 20z\"/>\n",
              "  </svg>\n",
              "      </button>\n",
              "      \n",
              "  <style>\n",
              "    .colab-df-container {\n",
              "      display:flex;\n",
              "      flex-wrap:wrap;\n",
              "      gap: 12px;\n",
              "    }\n",
              "\n",
              "    .colab-df-convert {\n",
              "      background-color: #E8F0FE;\n",
              "      border: none;\n",
              "      border-radius: 50%;\n",
              "      cursor: pointer;\n",
              "      display: none;\n",
              "      fill: #1967D2;\n",
              "      height: 32px;\n",
              "      padding: 0 0 0 0;\n",
              "      width: 32px;\n",
              "    }\n",
              "\n",
              "    .colab-df-convert:hover {\n",
              "      background-color: #E2EBFA;\n",
              "      box-shadow: 0px 1px 2px rgba(60, 64, 67, 0.3), 0px 1px 3px 1px rgba(60, 64, 67, 0.15);\n",
              "      fill: #174EA6;\n",
              "    }\n",
              "\n",
              "    [theme=dark] .colab-df-convert {\n",
              "      background-color: #3B4455;\n",
              "      fill: #D2E3FC;\n",
              "    }\n",
              "\n",
              "    [theme=dark] .colab-df-convert:hover {\n",
              "      background-color: #434B5C;\n",
              "      box-shadow: 0px 1px 3px 1px rgba(0, 0, 0, 0.15);\n",
              "      filter: drop-shadow(0px 1px 2px rgba(0, 0, 0, 0.3));\n",
              "      fill: #FFFFFF;\n",
              "    }\n",
              "  </style>\n",
              "\n",
              "      <script>\n",
              "        const buttonEl =\n",
              "          document.querySelector('#df-43f6d09f-2aae-40a0-b61b-3b304200b24c button.colab-df-convert');\n",
              "        buttonEl.style.display =\n",
              "          google.colab.kernel.accessAllowed ? 'block' : 'none';\n",
              "\n",
              "        async function convertToInteractive(key) {\n",
              "          const element = document.querySelector('#df-43f6d09f-2aae-40a0-b61b-3b304200b24c');\n",
              "          const dataTable =\n",
              "            await google.colab.kernel.invokeFunction('convertToInteractive',\n",
              "                                                     [key], {});\n",
              "          if (!dataTable) return;\n",
              "\n",
              "          const docLinkHtml = 'Like what you see? Visit the ' +\n",
              "            '<a target=\"_blank\" href=https://colab.research.google.com/notebooks/data_table.ipynb>data table notebook</a>'\n",
              "            + ' to learn more about interactive tables.';\n",
              "          element.innerHTML = '';\n",
              "          dataTable['output_type'] = 'display_data';\n",
              "          await google.colab.output.renderOutput(dataTable, element);\n",
              "          const docLink = document.createElement('div');\n",
              "          docLink.innerHTML = docLinkHtml;\n",
              "          element.appendChild(docLink);\n",
              "        }\n",
              "      </script>\n",
              "    </div>\n",
              "  </div>\n",
              "  "
            ]
          },
          "metadata": {},
          "execution_count": 90
        }
      ]
    },
    {
      "cell_type": "markdown",
      "source": [
        "##Exploratory Visuals"
      ],
      "metadata": {
        "id": "edXGLVMbeHhH"
      }
    },
    {
      "cell_type": "code",
      "source": [],
      "metadata": {
        "id": "ZyrSdr48ePDF"
      },
      "execution_count": 90,
      "outputs": []
    },
    {
      "cell_type": "markdown",
      "source": [
        "##Explanatory Visuals"
      ],
      "metadata": {
        "id": "pWo4NbNPePfl"
      }
    },
    {
      "cell_type": "code",
      "source": [],
      "metadata": {
        "id": "q6RSCHd-eTvi"
      },
      "execution_count": 90,
      "outputs": []
    }
  ]
}