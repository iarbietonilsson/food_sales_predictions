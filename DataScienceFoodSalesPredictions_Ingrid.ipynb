{
  "nbformat": 4,
  "nbformat_minor": 0,
  "metadata": {
    "colab": {
      "provenance": [],
      "include_colab_link": true
    },
    "kernelspec": {
      "name": "python3",
      "display_name": "Python 3"
    },
    "language_info": {
      "name": "python"
    }
  },
  "cells": [
    {
      "cell_type": "markdown",
      "metadata": {
        "id": "view-in-github",
        "colab_type": "text"
      },
      "source": [
        "<a href=\"https://colab.research.google.com/github/iarbietonilsson/food_sales_predictions/blob/main/DataScienceFoodSalesPredictions_Ingrid.ipynb\" target=\"_parent\"><img src=\"https://colab.research.google.com/assets/colab-badge.svg\" alt=\"Open In Colab\"/></a>"
      ]
    },
    {
      "cell_type": "markdown",
      "source": [
        "# Data Science Food Sales Predictions\n",
        "---\n",
        "\n",
        "*  ### Ingrid Arbieto Nelson"
      ],
      "metadata": {
        "id": "T1HKQrNPdcNd"
      }
    },
    {
      "cell_type": "markdown",
      "source": [
        "# **Project 1 - Parts 1 & 2**<a name=\"Project 1 Parts 1 & 2\">\n",
        "\n",
        "---\n",
        "\n",
        "\n",
        "\n",
        "## Part 1\n",
        "\n",
        "This is an overview of the steps you will need to complete for part one of the project. There are more detailed instructions for each section following the overview.\n",
        "\n",
        "1) Create a GitHub Account\n",
        "\n",
        "2) Set up a GitHub repository that will house your first portfolio project.\n",
        "\n",
        "3) Add Markdown cells with your name and section headers to the notebook.\n",
        "\n",
        "4) Add the Google Colab Notebook to your GitHub repository.\n",
        "\n",
        "5) Submit the link to your GitHub repo!\n",
        "\n",
        "<br />\n",
        "\n",
        "\n",
        "***\n",
        "\n",
        "<br />\n",
        "\n",
        "## Part 2\n",
        "\n",
        "We will continue to work off of the GitHub repository you created last week for your first portfolio project. The goal of your portfolio projects are to have items to show potential employers that demonstrate your data science skills and competencies.\n",
        "\n",
        "The first project will be a sales prediction for food items sold at various stores. The goal of this is to help the retailer understand the properties of products and outlets that play crucial roles in increasing sales.\n",
        "\n",
        "<br />\n",
        "<center>\n",
        "\n",
        "![image](https://drive.google.com/uc?id=1KBhOlprSFdBN12iuVTLqHszs3NhCa3AH)\n",
        "\n",
        "</center>\n",
        "\n",
        "<br />\n",
        "\n",
        "For Part 2, your task is to use Pandas to load in the data and start exploring and cleaning it.  As data scientists, about [**80% of our time is spent on data preparation**](https://www.forbes.com/sites/gilpress/2016/03/23/data-preparation-most-time-consuming-least-enjoyable-data-science-task-survey-says/?sh=6d56cc4d6f63) - so this is a very important step!\n",
        "\n",
        "<br />\n",
        "\n",
        "*   Download the data using the link on the Learning Platform.\n",
        "    *   (Note: [Original data source](https://datahack.analyticsvidhya.com/contest/practice-problem-big-mart-sales-iii/)).\n",
        "*   Insert code below the heading \"Loading Data\"\n",
        "    *   Use Pandas to read the sales prediction data set into Google Colab.\n",
        "    *   Use df.info() and df.head() methods to preview the first rows of your data and a summary of your DataFrame's columns.\n",
        "*   Insert code below the heading \"Data Cleaning\"\n",
        "    *   Explore the data - what do you need to do to clean this data? Clean it!\n",
        "    *   Be sure to address each of the following tasks:\n",
        "\n",
        "        1) How many rows and columns?\n",
        "\n",
        "        2) What are the datatypes of each variable?\n",
        "\n",
        "        3) Are there duplicates? If so, drop any duplicates.\n",
        "\n",
        "        4) Identify missing values.\n",
        "\n",
        "        5) Decide on how to address the missing values and do it! (This requires your judgement, so explain your choice).\n",
        "\n",
        "        6) Confirm that there are no missing values after addressing them.\n",
        "\n",
        "        7) Find and fix any inconsistent categories of data (example: fix cat, Cat, and cats so that they are consistent).\n",
        "\n",
        "        8) For any numerical columns, obtain the summary statistics of each (min, max, mean).\n",
        "\n",
        "    Here are a few resources to help you consider more advanced ways to deal with missing values in your dataset (check out the optional additional Pandas resources at the end of this Chapter for more resources on this):\n",
        "    *   [Missing Data, its types, and statistical methods to deal with it.](https://medium.com/@raoufkeskes/missing-data-its-types-and-statistical-methods-to-deal-with-it-5cf8b71a443f#id_token=eyJhbGciOiJSUzI1NiIsImtpZCI6IjAyYTYxZWZkMmE0NGZjMjE1MTQ4ZDRlZmZjMzRkNmE3YjJhYzI2ZjAiLCJ0eXAiOiJKV1QifQ.eyJpc3MiOiJodHRwczovL2FjY291bnRzLmdvb2dsZS5jb20iLCJuYmYiOjE2NzE3OTQwNDcsImF1ZCI6IjIxNjI5NjAzNTgzNC1rMWs2cWUwNjBzMnRwMmEyamFtNGxqZGNtczAwc3R0Zy5hcHBzLmdvb2dsZXVzZXJjb250ZW50LmNvbSIsInN1YiI6IjExMjk4NTQyNDkxMTAxNjkzODM1NCIsImVtYWlsIjoic3dlZXRzYW1iYWdpcmxAZ21haWwuY29tIiwiZW1haWxfdmVyaWZpZWQiOnRydWUsImF6cCI6IjIxNjI5NjAzNTgzNC1rMWs2cWUwNjBzMnRwMmEyamFtNGxqZGNtczAwc3R0Zy5hcHBzLmdvb2dsZXVzZXJjb250ZW50LmNvbSIsIm5hbWUiOiJJbmdyaWQgTmVsc29uIiwicGljdHVyZSI6Imh0dHBzOi8vbGgzLmdvb2dsZXVzZXJjb250ZW50LmNvbS9hL0FFZEZUcDY3WnpyNEROZlQ3cHhjZ2xrZnZXUWs3SWx3MGszSDk2SG9WYmhqdEE9czk2LWMiLCJnaXZlbl9uYW1lIjoiSW5ncmlkIiwiZmFtaWx5X25hbWUiOiJOZWxzb24iLCJpYXQiOjE2NzE3OTQzNDcsImV4cCI6MTY3MTc5Nzk0NywianRpIjoiNTAwYWZhN2ZiN2M3MGUwMzBjNzJiMzQ2ZWNhZDFkZmEyOTJiN2ZlMiJ9.kZLlrhvJp0E2Rc1Kz_c4UjZ7De2E9D81MNlbouBxBJxglhhzU3ATfGO9ThjngyRmT6pDjF0JcYqmn8U-zEOEuy2PXWCGKPt056e0UYgvTAHqXR7bjbYNKWOV256ntYv2utaurDRT3d09SFO12Gh2Ou9pHvAvp-3YtrMHwQYdQFHuaedKfKSQDEad_38SbnFUIGYnMRfAJGBQpNEwz_11fMK2KnaKPMdFm9MVkWLh776r_t1GEvY-FYEvCcOvf_yQo0mzNdXA6HtPO_tNVVDj3BYCyvMKhHNdJXWUo9Y9EaQuGhF3DwvIVUP9dRecRIJoWpLclb8xoypfNIh6ID_iWQ)\n",
        "    *   [6 Different Ways to Compensate for Missing Values In a Dataset.](https://https://towardsdatascience.com/6-different-ways-to-compensate-for-missing-values-data-imputation-with-examples-6022d9ca0779)\n",
        "    *   [Dealing with missing data: Key assumptions and methods for applied analysis.](https://chrome-extension://efaidnbmnnnibpcajpcglclefindmkaj/https://www.bu.edu/sph/files/2014/05/Marina-tech-report.pdf)\n",
        "    *   Feel free to use any other resources or techniques you find online that you think are appropriate/useful.\n",
        "\n",
        "\n"
      ],
      "metadata": {
        "id": "lWjIWPiNolRe"
      }
    },
    {
      "cell_type": "markdown",
      "source": [
        "##Data Dictionary<a name=\"Data Dictionary\">\n",
        "\n",
        "<center>\n",
        "\n",
        "![image](https://drive.google.com/uc?id=1kdsKuuQa6PA5zx6PcI_J7amlONsbFaXj)\n",
        "\n",
        "</center>"
      ],
      "metadata": {
        "id": "5sDnIF5DpqQL"
      }
    },
    {
      "cell_type": "markdown",
      "source": [
        "## Loading Data<a name = \"Loading Data\">"
      ],
      "metadata": {
        "id": "ygeLoScqd9LY"
      }
    },
    {
      "cell_type": "code",
      "source": [
        "from google.colab import drive\n",
        "drive.mount('/content/drive')"
      ],
      "metadata": {
        "id": "1RZQwCOeeBqH",
        "colab": {
          "base_uri": "https://localhost:8080/"
        },
        "outputId": "6c13ba5d-d715-4608-f85a-f30d2be39c5d"
      },
      "execution_count": null,
      "outputs": [
        {
          "output_type": "stream",
          "name": "stdout",
          "text": [
            "Drive already mounted at /content/drive; to attempt to forcibly remount, call drive.mount(\"/content/drive\", force_remount=True).\n"
          ]
        }
      ]
    },
    {
      "cell_type": "code",
      "source": [
        "# import libraries\n",
        "import pandas as pd\n",
        "import numpy as np\n",
        "import matplotlib.pyplot as plt\n",
        "import seaborn as sns"
      ],
      "metadata": {
        "id": "P8ujrr0CPqah"
      },
      "execution_count": null,
      "outputs": []
    },
    {
      "cell_type": "code",
      "source": [
        "# load data\n",
        "url = 'https://docs.google.com/spreadsheets/d/e/2PACX-1vSZM_GiLJAcSH0K70Pp1eG_J_-wht9ScYsPsaJ9IstEA2OuEYpCi4_lk6KBLc99MIA0V97E-Hs-Z84y/pub?gid=415579051&single=true&output=csv'\n",
        "df = pd.read_csv(url)"
      ],
      "metadata": {
        "id": "FHaJ-ILZP_Su"
      },
      "execution_count": null,
      "outputs": []
    },
    {
      "cell_type": "code",
      "source": [
        "# view header - 1st 5 rows\n",
        "df.head()\n"
      ],
      "metadata": {
        "colab": {
          "base_uri": "https://localhost:8080/"
        },
        "id": "Nw7VbAcrQFhe",
        "outputId": "072d2c82-6bc3-4ee7-bc1d-4e9773ace0f9"
      },
      "execution_count": null,
      "outputs": [
        {
          "output_type": "execute_result",
          "data": {
            "text/plain": [
              "  Item_Identifier  Item_Weight Item_Fat_Content  Item_Visibility  \\\n",
              "0           FDA15         9.30          Low Fat         0.016047   \n",
              "1           DRC01         5.92          Regular         0.019278   \n",
              "2           FDN15        17.50          Low Fat         0.016760   \n",
              "3           FDX07        19.20          Regular         0.000000   \n",
              "4           NCD19         8.93          Low Fat         0.000000   \n",
              "\n",
              "               Item_Type  Item_MRP Outlet_Identifier  \\\n",
              "0                  Dairy  249.8092            OUT049   \n",
              "1            Soft Drinks   48.2692            OUT018   \n",
              "2                   Meat  141.6180            OUT049   \n",
              "3  Fruits and Vegetables  182.0950            OUT010   \n",
              "4              Household   53.8614            OUT013   \n",
              "\n",
              "   Outlet_Establishment_Year Outlet_Size Outlet_Location_Type  \\\n",
              "0                       1999      Medium               Tier 1   \n",
              "1                       2009      Medium               Tier 3   \n",
              "2                       1999      Medium               Tier 1   \n",
              "3                       1998         NaN               Tier 3   \n",
              "4                       1987        High               Tier 3   \n",
              "\n",
              "         Outlet_Type  Item_Outlet_Sales  \n",
              "0  Supermarket Type1          3735.1380  \n",
              "1  Supermarket Type2           443.4228  \n",
              "2  Supermarket Type1          2097.2700  \n",
              "3      Grocery Store           732.3800  \n",
              "4  Supermarket Type1           994.7052  "
            ],
            "text/html": [
              "\n",
              "  <div id=\"df-a157fc4a-87c6-4cf2-a85a-9453b7e30a55\">\n",
              "    <div class=\"colab-df-container\">\n",
              "      <div>\n",
              "<style scoped>\n",
              "    .dataframe tbody tr th:only-of-type {\n",
              "        vertical-align: middle;\n",
              "    }\n",
              "\n",
              "    .dataframe tbody tr th {\n",
              "        vertical-align: top;\n",
              "    }\n",
              "\n",
              "    .dataframe thead th {\n",
              "        text-align: right;\n",
              "    }\n",
              "</style>\n",
              "<table border=\"1\" class=\"dataframe\">\n",
              "  <thead>\n",
              "    <tr style=\"text-align: right;\">\n",
              "      <th></th>\n",
              "      <th>Item_Identifier</th>\n",
              "      <th>Item_Weight</th>\n",
              "      <th>Item_Fat_Content</th>\n",
              "      <th>Item_Visibility</th>\n",
              "      <th>Item_Type</th>\n",
              "      <th>Item_MRP</th>\n",
              "      <th>Outlet_Identifier</th>\n",
              "      <th>Outlet_Establishment_Year</th>\n",
              "      <th>Outlet_Size</th>\n",
              "      <th>Outlet_Location_Type</th>\n",
              "      <th>Outlet_Type</th>\n",
              "      <th>Item_Outlet_Sales</th>\n",
              "    </tr>\n",
              "  </thead>\n",
              "  <tbody>\n",
              "    <tr>\n",
              "      <th>0</th>\n",
              "      <td>FDA15</td>\n",
              "      <td>9.30</td>\n",
              "      <td>Low Fat</td>\n",
              "      <td>0.016047</td>\n",
              "      <td>Dairy</td>\n",
              "      <td>249.8092</td>\n",
              "      <td>OUT049</td>\n",
              "      <td>1999</td>\n",
              "      <td>Medium</td>\n",
              "      <td>Tier 1</td>\n",
              "      <td>Supermarket Type1</td>\n",
              "      <td>3735.1380</td>\n",
              "    </tr>\n",
              "    <tr>\n",
              "      <th>1</th>\n",
              "      <td>DRC01</td>\n",
              "      <td>5.92</td>\n",
              "      <td>Regular</td>\n",
              "      <td>0.019278</td>\n",
              "      <td>Soft Drinks</td>\n",
              "      <td>48.2692</td>\n",
              "      <td>OUT018</td>\n",
              "      <td>2009</td>\n",
              "      <td>Medium</td>\n",
              "      <td>Tier 3</td>\n",
              "      <td>Supermarket Type2</td>\n",
              "      <td>443.4228</td>\n",
              "    </tr>\n",
              "    <tr>\n",
              "      <th>2</th>\n",
              "      <td>FDN15</td>\n",
              "      <td>17.50</td>\n",
              "      <td>Low Fat</td>\n",
              "      <td>0.016760</td>\n",
              "      <td>Meat</td>\n",
              "      <td>141.6180</td>\n",
              "      <td>OUT049</td>\n",
              "      <td>1999</td>\n",
              "      <td>Medium</td>\n",
              "      <td>Tier 1</td>\n",
              "      <td>Supermarket Type1</td>\n",
              "      <td>2097.2700</td>\n",
              "    </tr>\n",
              "    <tr>\n",
              "      <th>3</th>\n",
              "      <td>FDX07</td>\n",
              "      <td>19.20</td>\n",
              "      <td>Regular</td>\n",
              "      <td>0.000000</td>\n",
              "      <td>Fruits and Vegetables</td>\n",
              "      <td>182.0950</td>\n",
              "      <td>OUT010</td>\n",
              "      <td>1998</td>\n",
              "      <td>NaN</td>\n",
              "      <td>Tier 3</td>\n",
              "      <td>Grocery Store</td>\n",
              "      <td>732.3800</td>\n",
              "    </tr>\n",
              "    <tr>\n",
              "      <th>4</th>\n",
              "      <td>NCD19</td>\n",
              "      <td>8.93</td>\n",
              "      <td>Low Fat</td>\n",
              "      <td>0.000000</td>\n",
              "      <td>Household</td>\n",
              "      <td>53.8614</td>\n",
              "      <td>OUT013</td>\n",
              "      <td>1987</td>\n",
              "      <td>High</td>\n",
              "      <td>Tier 3</td>\n",
              "      <td>Supermarket Type1</td>\n",
              "      <td>994.7052</td>\n",
              "    </tr>\n",
              "  </tbody>\n",
              "</table>\n",
              "</div>\n",
              "      <button class=\"colab-df-convert\" onclick=\"convertToInteractive('df-a157fc4a-87c6-4cf2-a85a-9453b7e30a55')\"\n",
              "              title=\"Convert this dataframe to an interactive table.\"\n",
              "              style=\"display:none;\">\n",
              "        \n",
              "  <svg xmlns=\"http://www.w3.org/2000/svg\" height=\"24px\"viewBox=\"0 0 24 24\"\n",
              "       width=\"24px\">\n",
              "    <path d=\"M0 0h24v24H0V0z\" fill=\"none\"/>\n",
              "    <path d=\"M18.56 5.44l.94 2.06.94-2.06 2.06-.94-2.06-.94-.94-2.06-.94 2.06-2.06.94zm-11 1L8.5 8.5l.94-2.06 2.06-.94-2.06-.94L8.5 2.5l-.94 2.06-2.06.94zm10 10l.94 2.06.94-2.06 2.06-.94-2.06-.94-.94-2.06-.94 2.06-2.06.94z\"/><path d=\"M17.41 7.96l-1.37-1.37c-.4-.4-.92-.59-1.43-.59-.52 0-1.04.2-1.43.59L10.3 9.45l-7.72 7.72c-.78.78-.78 2.05 0 2.83L4 21.41c.39.39.9.59 1.41.59.51 0 1.02-.2 1.41-.59l7.78-7.78 2.81-2.81c.8-.78.8-2.07 0-2.86zM5.41 20L4 18.59l7.72-7.72 1.47 1.35L5.41 20z\"/>\n",
              "  </svg>\n",
              "      </button>\n",
              "      \n",
              "  <style>\n",
              "    .colab-df-container {\n",
              "      display:flex;\n",
              "      flex-wrap:wrap;\n",
              "      gap: 12px;\n",
              "    }\n",
              "\n",
              "    .colab-df-convert {\n",
              "      background-color: #E8F0FE;\n",
              "      border: none;\n",
              "      border-radius: 50%;\n",
              "      cursor: pointer;\n",
              "      display: none;\n",
              "      fill: #1967D2;\n",
              "      height: 32px;\n",
              "      padding: 0 0 0 0;\n",
              "      width: 32px;\n",
              "    }\n",
              "\n",
              "    .colab-df-convert:hover {\n",
              "      background-color: #E2EBFA;\n",
              "      box-shadow: 0px 1px 2px rgba(60, 64, 67, 0.3), 0px 1px 3px 1px rgba(60, 64, 67, 0.15);\n",
              "      fill: #174EA6;\n",
              "    }\n",
              "\n",
              "    [theme=dark] .colab-df-convert {\n",
              "      background-color: #3B4455;\n",
              "      fill: #D2E3FC;\n",
              "    }\n",
              "\n",
              "    [theme=dark] .colab-df-convert:hover {\n",
              "      background-color: #434B5C;\n",
              "      box-shadow: 0px 1px 3px 1px rgba(0, 0, 0, 0.15);\n",
              "      filter: drop-shadow(0px 1px 2px rgba(0, 0, 0, 0.3));\n",
              "      fill: #FFFFFF;\n",
              "    }\n",
              "  </style>\n",
              "\n",
              "      <script>\n",
              "        const buttonEl =\n",
              "          document.querySelector('#df-a157fc4a-87c6-4cf2-a85a-9453b7e30a55 button.colab-df-convert');\n",
              "        buttonEl.style.display =\n",
              "          google.colab.kernel.accessAllowed ? 'block' : 'none';\n",
              "\n",
              "        async function convertToInteractive(key) {\n",
              "          const element = document.querySelector('#df-a157fc4a-87c6-4cf2-a85a-9453b7e30a55');\n",
              "          const dataTable =\n",
              "            await google.colab.kernel.invokeFunction('convertToInteractive',\n",
              "                                                     [key], {});\n",
              "          if (!dataTable) return;\n",
              "\n",
              "          const docLinkHtml = 'Like what you see? Visit the ' +\n",
              "            '<a target=\"_blank\" href=https://colab.research.google.com/notebooks/data_table.ipynb>data table notebook</a>'\n",
              "            + ' to learn more about interactive tables.';\n",
              "          element.innerHTML = '';\n",
              "          dataTable['output_type'] = 'display_data';\n",
              "          await google.colab.output.renderOutput(dataTable, element);\n",
              "          const docLink = document.createElement('div');\n",
              "          docLink.innerHTML = docLinkHtml;\n",
              "          element.appendChild(docLink);\n",
              "        }\n",
              "      </script>\n",
              "    </div>\n",
              "  </div>\n",
              "  "
            ]
          },
          "metadata": {},
          "execution_count": 268
        }
      ]
    },
    {
      "cell_type": "markdown",
      "source": [
        "## Data Cleaning"
      ],
      "metadata": {
        "id": "Ho99la86eCJ-"
      }
    },
    {
      "cell_type": "markdown",
      "source": [
        "### **1  Size of Dataframe**\n",
        "\n",
        "---\n",
        "\n",
        "\n",
        "\n",
        "Use df.shape() to determine how many rows and columns in the dataframe.\n",
        "*   There are 8,523 rows and 12 columns."
      ],
      "metadata": {
        "id": "8eV_RqoaeHEH"
      }
    },
    {
      "cell_type": "code",
      "source": [
        "df.shape"
      ],
      "metadata": {
        "colab": {
          "base_uri": "https://localhost:8080/"
        },
        "id": "H5qFu4mSQXTg",
        "outputId": "c755733e-252c-48c7-8536-2befaf82c2ba"
      },
      "execution_count": null,
      "outputs": [
        {
          "output_type": "execute_result",
          "data": {
            "text/plain": [
              "(8523, 12)"
            ]
          },
          "metadata": {},
          "execution_count": 269
        }
      ]
    },
    {
      "cell_type": "markdown",
      "source": [
        "### **2  Data Types**\n",
        "\n",
        "---\n",
        "\n",
        "\n",
        "\n",
        "Check data types for each variable."
      ],
      "metadata": {
        "id": "JdYEMvwDR-C3"
      }
    },
    {
      "cell_type": "code",
      "source": [
        "df.dtypes"
      ],
      "metadata": {
        "colab": {
          "base_uri": "https://localhost:8080/"
        },
        "id": "Rj4PV32aSCk-",
        "outputId": "7ed4e732-8241-4221-c111-2f28e5592584"
      },
      "execution_count": null,
      "outputs": [
        {
          "output_type": "execute_result",
          "data": {
            "text/plain": [
              "Item_Identifier               object\n",
              "Item_Weight                  float64\n",
              "Item_Fat_Content              object\n",
              "Item_Visibility              float64\n",
              "Item_Type                     object\n",
              "Item_MRP                     float64\n",
              "Outlet_Identifier             object\n",
              "Outlet_Establishment_Year      int64\n",
              "Outlet_Size                   object\n",
              "Outlet_Location_Type          object\n",
              "Outlet_Type                   object\n",
              "Item_Outlet_Sales            float64\n",
              "dtype: object"
            ]
          },
          "metadata": {},
          "execution_count": 270
        }
      ]
    },
    {
      "cell_type": "markdown",
      "source": [
        "### **3   Duplicates / Drop Irrelevant Data**\n",
        "\n",
        "---\n",
        "\n",
        "\n",
        "\n",
        "### Duplicates\n",
        "Drop any duplicates, i.e. data entries that are exactly the same across all columns.\n",
        "*   There are no duplicate data entries."
      ],
      "metadata": {
        "id": "g0XusFCpSujA"
      }
    },
    {
      "cell_type": "code",
      "source": [
        "# Check for duplicated data in Python\n",
        "df.duplicated().any()"
      ],
      "metadata": {
        "colab": {
          "base_uri": "https://localhost:8080/"
        },
        "id": "sSD7K1PASxjC",
        "outputId": "973c7825-7550-4b79-a493-40147fef7bb7"
      },
      "execution_count": null,
      "outputs": [
        {
          "output_type": "execute_result",
          "data": {
            "text/plain": [
              "False"
            ]
          },
          "metadata": {},
          "execution_count": 271
        }
      ]
    },
    {
      "cell_type": "markdown",
      "source": [],
      "metadata": {
        "id": "I2nzzyVuXQO3"
      }
    },
    {
      "cell_type": "code",
      "source": [
        "# Count any duplicate entries\n",
        "df.duplicated().sum()"
      ],
      "metadata": {
        "colab": {
          "base_uri": "https://localhost:8080/"
        },
        "id": "qw96QwEDUhDq",
        "outputId": "a9921efd-4e28-48c2-baa3-01e71444348c"
      },
      "execution_count": null,
      "outputs": [
        {
          "output_type": "execute_result",
          "data": {
            "text/plain": [
              "0"
            ]
          },
          "metadata": {},
          "execution_count": 272
        }
      ]
    },
    {
      "cell_type": "markdown",
      "source": [
        "###Drop Irrevalent Data\n",
        "*such as*\n",
        "*   *values that are unique in every row*\n",
        "*   *values that are identical across every* row\n",
        "*   *an Unnamed column (duplicate index)*\n",
        "*   *those that are irrevalent to the task at head*\n",
        "\n",
        "<br />\n",
        "\n",
        "####Analysis -  Which Columns to Drop?\n",
        "\n",
        "\n"
      ],
      "metadata": {
        "id": "qrTWPneIVMEI"
      }
    },
    {
      "cell_type": "markdown",
      "source": [
        "#### *Item_Identifier*"
      ],
      "metadata": {
        "id": "leU82Tdcai-a"
      }
    },
    {
      "cell_type": "code",
      "source": [
        "# See how many different values for Item_Identifier\n",
        "df['Item_Identifier'].value_counts()"
      ],
      "metadata": {
        "colab": {
          "base_uri": "https://localhost:8080/"
        },
        "id": "SGAFPvheXKCf",
        "outputId": "7e362549-7ced-4c76-aead-5ff9f6cbec43"
      },
      "execution_count": null,
      "outputs": [
        {
          "output_type": "execute_result",
          "data": {
            "text/plain": [
              "FDW13    10\n",
              "FDG33    10\n",
              "NCY18     9\n",
              "FDD38     9\n",
              "DRE49     9\n",
              "         ..\n",
              "FDY43     1\n",
              "FDQ60     1\n",
              "FDO33     1\n",
              "DRF48     1\n",
              "FDC23     1\n",
              "Name: Item_Identifier, Length: 1559, dtype: int64"
            ]
          },
          "metadata": {},
          "execution_count": 273
        }
      ]
    },
    {
      "cell_type": "code",
      "source": [
        "# how many unique item IDs\n",
        "itemID_length = len(df['Item_Identifier'].value_counts())\n",
        "itemID_length"
      ],
      "metadata": {
        "id": "Ul2j5xZcZBwI",
        "colab": {
          "base_uri": "https://localhost:8080/"
        },
        "outputId": "2769c5b6-3ea0-47ac-ff97-f6e7e5d684f1"
      },
      "execution_count": null,
      "outputs": [
        {
          "output_type": "execute_result",
          "data": {
            "text/plain": [
              "1559"
            ]
          },
          "metadata": {},
          "execution_count": 274
        }
      ]
    },
    {
      "cell_type": "code",
      "source": [
        "# show how many unique item IDs in readable format\n",
        "print(f'There are {itemID_length} unique items with irrevalent alphanumeric IDs, so good to delete.')"
      ],
      "metadata": {
        "colab": {
          "base_uri": "https://localhost:8080/"
        },
        "id": "dBrF4HD2Yfj3",
        "outputId": "9662eee0-9c41-4c97-c01b-07fd345a983f"
      },
      "execution_count": null,
      "outputs": [
        {
          "output_type": "stream",
          "name": "stdout",
          "text": [
            "There are 1559 unique items with irrevalent alphanumeric IDs, so good to delete.\n"
          ]
        }
      ]
    },
    {
      "cell_type": "markdown",
      "source": [
        "#### *Outlet_Identifier*"
      ],
      "metadata": {
        "id": "5sgvZ9EqavoI"
      }
    },
    {
      "cell_type": "code",
      "source": [
        "# See how many different values for Outlet_Identifier\n",
        "df['Outlet_Identifier'].value_counts()"
      ],
      "metadata": {
        "colab": {
          "base_uri": "https://localhost:8080/"
        },
        "id": "RBtHIhRYaBxR",
        "outputId": "7dd5e6bb-6bb5-42d4-b22e-97ae85e34190"
      },
      "execution_count": null,
      "outputs": [
        {
          "output_type": "execute_result",
          "data": {
            "text/plain": [
              "OUT027    935\n",
              "OUT013    932\n",
              "OUT049    930\n",
              "OUT046    930\n",
              "OUT035    930\n",
              "OUT045    929\n",
              "OUT018    928\n",
              "OUT017    926\n",
              "OUT010    555\n",
              "OUT019    528\n",
              "Name: Outlet_Identifier, dtype: int64"
            ]
          },
          "metadata": {},
          "execution_count": 276
        }
      ]
    },
    {
      "cell_type": "code",
      "source": [
        "# how many outlet IDs\n",
        "outletID_length = len(df['Outlet_Identifier'].value_counts())\n",
        "outletID_length"
      ],
      "metadata": {
        "colab": {
          "base_uri": "https://localhost:8080/"
        },
        "id": "TozJ2lLPbGQh",
        "outputId": "f9f8b556-6bdd-479e-c375-d6abda5933be"
      },
      "execution_count": null,
      "outputs": [
        {
          "output_type": "execute_result",
          "data": {
            "text/plain": [
              "10"
            ]
          },
          "metadata": {},
          "execution_count": 277
        }
      ]
    },
    {
      "cell_type": "code",
      "source": [
        "# display outlet ID results in readable format\n",
        "print(f'Although there are only {outletID_length} unique outlet IDs, these values seem irrevalent info.')\n",
        "print('There also are two more descriptive outlet types, seemingly more relevant to sales: outlet size and location!')"
      ],
      "metadata": {
        "colab": {
          "base_uri": "https://localhost:8080/"
        },
        "id": "f6-RuZh8bbSY",
        "outputId": "0592e6bb-e56a-4791-b8e4-fd93b74175b1"
      },
      "execution_count": null,
      "outputs": [
        {
          "output_type": "stream",
          "name": "stdout",
          "text": [
            "Although there are only 10 unique outlet IDs, these values seem irrevalent info.\n",
            "There also are two more descriptive outlet types, seemingly more relevant to sales: outlet size and location!\n"
          ]
        }
      ]
    },
    {
      "cell_type": "markdown",
      "source": [
        "####*Outlet_Type*\n"
      ],
      "metadata": {
        "id": "8aECWw1GhH7D"
      }
    },
    {
      "cell_type": "code",
      "source": [
        "# See how many different values for Outlet_Type\n",
        "df['Outlet_Type'].value_counts()"
      ],
      "metadata": {
        "colab": {
          "base_uri": "https://localhost:8080/"
        },
        "id": "XIPDEPWjhvHd",
        "outputId": "0936d10c-6527-4805-9e6b-c9debe4d1fe3"
      },
      "execution_count": null,
      "outputs": [
        {
          "output_type": "execute_result",
          "data": {
            "text/plain": [
              "Supermarket Type1    5577\n",
              "Grocery Store        1083\n",
              "Supermarket Type3     935\n",
              "Supermarket Type2     928\n",
              "Name: Outlet_Type, dtype: int64"
            ]
          },
          "metadata": {},
          "execution_count": 279
        }
      ]
    },
    {
      "cell_type": "code",
      "source": [
        "# how many outlet Types\n",
        "outlet_Type_length = len(df['Outlet_Type'].value_counts())\n",
        "outlet_Type_length"
      ],
      "metadata": {
        "id": "Pf40-2uoh_7y",
        "colab": {
          "base_uri": "https://localhost:8080/"
        },
        "outputId": "66ee28c1-de1b-4bb7-bf19-c9db9649cb96"
      },
      "execution_count": null,
      "outputs": [
        {
          "output_type": "execute_result",
          "data": {
            "text/plain": [
              "4"
            ]
          },
          "metadata": {},
          "execution_count": 280
        }
      ]
    },
    {
      "cell_type": "code",
      "source": [
        "# explain judgement call for eliminating Outlet_Type\n",
        "print(f\"Though there are only {outlet_Type_length} kinds of Outlet_Types, there's not much difference between a grocery store and a supermarket, so good to eliminate.\")"
      ],
      "metadata": {
        "colab": {
          "base_uri": "https://localhost:8080/"
        },
        "id": "Xc0x_CefiFnZ",
        "outputId": "b3a4f057-956d-4ada-e8e7-f23ace84f084"
      },
      "execution_count": null,
      "outputs": [
        {
          "output_type": "stream",
          "name": "stdout",
          "text": [
            "Though there are only 4 kinds of Outlet_Types, there's not much difference between a grocery store and a supermarket, so good to eliminate.\n"
          ]
        }
      ]
    },
    {
      "cell_type": "markdown",
      "source": [
        "####*Outlet_Establishment_Year*"
      ],
      "metadata": {
        "id": "G3bnx_xkjQeN"
      }
    },
    {
      "cell_type": "code",
      "source": [
        "# See how many different values for Outlet_Type\n",
        "df['Outlet_Establishment_Year'].value_counts()"
      ],
      "metadata": {
        "colab": {
          "base_uri": "https://localhost:8080/"
        },
        "id": "68bjT3pKjXrN",
        "outputId": "38b410d8-a624-42c6-9802-c7b716b3d17a"
      },
      "execution_count": null,
      "outputs": [
        {
          "output_type": "execute_result",
          "data": {
            "text/plain": [
              "1985    1463\n",
              "1987     932\n",
              "1999     930\n",
              "1997     930\n",
              "2004     930\n",
              "2002     929\n",
              "2009     928\n",
              "2007     926\n",
              "1998     555\n",
              "Name: Outlet_Establishment_Year, dtype: int64"
            ]
          },
          "metadata": {},
          "execution_count": 282
        }
      ]
    },
    {
      "cell_type": "code",
      "source": [
        "# how many different years established for outlets\n",
        "outlet_year_length = len(df['Outlet_Establishment_Year'].value_counts())\n",
        "outlet_year_length"
      ],
      "metadata": {
        "id": "TJBUi-PGkQ4Q",
        "colab": {
          "base_uri": "https://localhost:8080/"
        },
        "outputId": "1f621dda-477b-4ca4-bc2b-436791584f7c"
      },
      "execution_count": null,
      "outputs": [
        {
          "output_type": "execute_result",
          "data": {
            "text/plain": [
              "9"
            ]
          },
          "metadata": {},
          "execution_count": 283
        }
      ]
    },
    {
      "cell_type": "code",
      "source": [
        "# explain judgement call for eliminating Outlet_Establishment_Year\n",
        "print(f'Though there are only {outlet_year_length} different establishment years, this does not seem relevant to food sales.')"
      ],
      "metadata": {
        "colab": {
          "base_uri": "https://localhost:8080/"
        },
        "id": "asZtnjg9kUyh",
        "outputId": "df15423f-ec84-45cd-f864-29457498fa23"
      },
      "execution_count": null,
      "outputs": [
        {
          "output_type": "stream",
          "name": "stdout",
          "text": [
            "Though there are only 9 different establishment years, this does not seem relevant to food sales.\n"
          ]
        }
      ]
    },
    {
      "cell_type": "markdown",
      "source": [
        "####***Drop Irrevalent Columns***\n",
        "\n",
        "####*Conclusions*\n",
        "\n",
        "* Item_Identifiers are unique item IDs, so good to eliminate, as unique in nearly every row, across 1000s of items. \n",
        "\n",
        "* Outlet Identifiers are also unique, so will delete as well. \n",
        "\n",
        "* Outlet Type and Outlet Establishment Year do not provide useful data relevant to food sales. "
      ],
      "metadata": {
        "id": "aQH8AdNDlP5i"
      }
    },
    {
      "cell_type": "code",
      "source": [
        "df.drop(columns = ['Item_Identifier', 'Outlet_Identifier', 'Outlet_Type', 'Outlet_Establishment_Year'], inplace = True)"
      ],
      "metadata": {
        "id": "sdyixbyAlbxh"
      },
      "execution_count": null,
      "outputs": []
    },
    {
      "cell_type": "code",
      "source": [
        "# check after dropping columns\n",
        "df.info()"
      ],
      "metadata": {
        "colab": {
          "base_uri": "https://localhost:8080/"
        },
        "id": "v6Y4zgRUlgL_",
        "outputId": "1302e1ac-91ba-489d-f419-4b3225b58037"
      },
      "execution_count": null,
      "outputs": [
        {
          "output_type": "stream",
          "name": "stdout",
          "text": [
            "<class 'pandas.core.frame.DataFrame'>\n",
            "RangeIndex: 8523 entries, 0 to 8522\n",
            "Data columns (total 8 columns):\n",
            " #   Column                Non-Null Count  Dtype  \n",
            "---  ------                --------------  -----  \n",
            " 0   Item_Weight           7060 non-null   float64\n",
            " 1   Item_Fat_Content      8523 non-null   object \n",
            " 2   Item_Visibility       8523 non-null   float64\n",
            " 3   Item_Type             8523 non-null   object \n",
            " 4   Item_MRP              8523 non-null   float64\n",
            " 5   Outlet_Size           6113 non-null   object \n",
            " 6   Outlet_Location_Type  8523 non-null   object \n",
            " 7   Item_Outlet_Sales     8523 non-null   float64\n",
            "dtypes: float64(4), object(4)\n",
            "memory usage: 532.8+ KB\n"
          ]
        }
      ]
    },
    {
      "cell_type": "markdown",
      "source": [
        "#### *Variables Remaining*\n",
        "\n",
        "Note that I'm using my judgement with respect to food sales predictions, as I am not a subject matter expert. It is wise to consult with a SME to gain more insights into your data!\n",
        "\n",
        "Below are the reasons I chose to keep the remaining items:\n",
        "\n",
        "*   ***Item Weight*** - I chose to keep item weight, as heavier items may cost more. It may not be, but I'm not a SME on food sales.\n",
        "*   ***Item Fat Content*** - It may be interesting to compare diet food to yummy fat-full food.\n",
        "*   ***Item Visibility*** - If an item is highly visable, it seems more likely that the customer would buy it.\n",
        "*   ***Item Type*** - Which food item types sell more!\n",
        "*   ***Item_MRP*** - Sales price would definitely be relavant to sales.\n",
        "*   ***Outlet Size*** - How big an outlet is seems to relate to how much outlet could sell.\n",
        "*   ***Outlet Location*** - Location! Location! Location! - big part of sales\n",
        "*   ***Item_Outlet_Sales*** - Primary Sales datapoint!"
      ],
      "metadata": {
        "id": "gxDAdXY5l0Fz"
      }
    },
    {
      "cell_type": "markdown",
      "source": [
        "### **4   Identify Missing Values**\n",
        "\n",
        "---\n",
        "\n",
        "\n",
        "*   Item weight is missing for 1463 values (17.17%)\n",
        "*   Outlet size is missing for for 2410 values (28.28%)\n"
      ],
      "metadata": {
        "id": "mzoCfLwHmv2-"
      }
    },
    {
      "cell_type": "code",
      "source": [
        "# Tells number of na's in each column\n",
        "df.info()"
      ],
      "metadata": {
        "colab": {
          "base_uri": "https://localhost:8080/"
        },
        "id": "PEUw1uosnN0r",
        "outputId": "11e0bf10-72a1-40b5-9e9d-7cbc305fa047"
      },
      "execution_count": null,
      "outputs": [
        {
          "output_type": "stream",
          "name": "stdout",
          "text": [
            "<class 'pandas.core.frame.DataFrame'>\n",
            "RangeIndex: 8523 entries, 0 to 8522\n",
            "Data columns (total 8 columns):\n",
            " #   Column                Non-Null Count  Dtype  \n",
            "---  ------                --------------  -----  \n",
            " 0   Item_Weight           7060 non-null   float64\n",
            " 1   Item_Fat_Content      8523 non-null   object \n",
            " 2   Item_Visibility       8523 non-null   float64\n",
            " 3   Item_Type             8523 non-null   object \n",
            " 4   Item_MRP              8523 non-null   float64\n",
            " 5   Outlet_Size           6113 non-null   object \n",
            " 6   Outlet_Location_Type  8523 non-null   object \n",
            " 7   Item_Outlet_Sales     8523 non-null   float64\n",
            "dtypes: float64(4), object(4)\n",
            "memory usage: 532.8+ KB\n"
          ]
        }
      ]
    },
    {
      "cell_type": "code",
      "source": [
        "# Sums number of missing values per column\n",
        "df.isna().sum()"
      ],
      "metadata": {
        "colab": {
          "base_uri": "https://localhost:8080/"
        },
        "id": "noIR_BuZoMJ1",
        "outputId": "22a49fc5-537b-4d3b-9682-59fee328c22e"
      },
      "execution_count": null,
      "outputs": [
        {
          "output_type": "execute_result",
          "data": {
            "text/plain": [
              "Item_Weight             1463\n",
              "Item_Fat_Content           0\n",
              "Item_Visibility            0\n",
              "Item_Type                  0\n",
              "Item_MRP                   0\n",
              "Outlet_Size             2410\n",
              "Outlet_Location_Type       0\n",
              "Item_Outlet_Sales          0\n",
              "dtype: int64"
            ]
          },
          "metadata": {},
          "execution_count": 288
        }
      ]
    },
    {
      "cell_type": "code",
      "source": [
        "# show percentage of na values / total count of item\n",
        "df.isna().sum() / len(df) * 100"
      ],
      "metadata": {
        "colab": {
          "base_uri": "https://localhost:8080/"
        },
        "id": "gbt6zYUdoUpt",
        "outputId": "5d7dcfe5-d2fc-499f-838b-4957abbe068b"
      },
      "execution_count": null,
      "outputs": [
        {
          "output_type": "execute_result",
          "data": {
            "text/plain": [
              "Item_Weight             17.165317\n",
              "Item_Fat_Content         0.000000\n",
              "Item_Visibility          0.000000\n",
              "Item_Type                0.000000\n",
              "Item_MRP                 0.000000\n",
              "Outlet_Size             28.276428\n",
              "Outlet_Location_Type     0.000000\n",
              "Item_Outlet_Sales        0.000000\n",
              "dtype: float64"
            ]
          },
          "metadata": {},
          "execution_count": 289
        }
      ]
    },
    {
      "cell_type": "markdown",
      "source": [
        "### **5 How to Address Missing Values**\n",
        "\n",
        "---\n",
        "\n"
      ],
      "metadata": {
        "id": "x38B3Slro1kY"
      }
    },
    {
      "cell_type": "markdown",
      "source": [
        "For missing values, I could\n",
        "1.   ***Drop the column***\n",
        "     *  ( _good rule of thumb if less than 5%_ )\n",
        "2.   ***Impute the missing value***\n",
        "     *  many statistical methods\n",
        "     *  simpler one is to use median (_integers_), mean (_float_), mode (_category_)\n",
        "3.   ***Fill in missing value with ```Unknown```***\n",
        "\n"
      ],
      "metadata": {
        "id": "X2LXfupypBu6"
      }
    },
    {
      "cell_type": "markdown",
      "source": [
        "#### ***Item Weight***\n",
        "\n",
        "*   Item Weight is missing for 17.17% of values, so not minimal number of missing values.\n",
        "*   Chosen method - **Impute the missing value** with mean for _float_ value\n",
        "*   This does introduce errors into the dataset."
      ],
      "metadata": {
        "id": "zwe0DHLIqAQ9"
      }
    },
    {
      "cell_type": "code",
      "source": [
        "# plot histogram with seaborn including median versus mean\n",
        "plt.style.use(['seaborn-pastel'])\n",
        "ax = sns.histplot(data = df, x = 'Item_Weight')\n",
        "ax.set(title='Item Weight Distribution')\n",
        "median = df['Item_Weight'].median()\n",
        "ax.axvline(median,color='red',ls='--',label=f\"Median\");\n",
        "mean = df['Item_Weight'].mean()\n",
        "ax.axvline(mean,color='green',ls='-',label=f\"Mean\")\n",
        "ax.legend();\n"
      ],
      "metadata": {
        "colab": {
          "base_uri": "https://localhost:8080/"
        },
        "id": "V_kBXduIjXOn",
        "outputId": "10286086-d97f-4d3a-ebb3-aa72a59cf89c"
      },
      "execution_count": null,
      "outputs": [
        {
          "output_type": "display_data",
          "data": {
            "text/plain": [
              "<Figure size 432x288 with 1 Axes>"
            ],
            "image/png": "[encoded data removed]"
          },
          "metadata": {
            "needs_background": "light"
          }
        }
      ]
    },
    {
      "cell_type": "code",
      "source": [
        "# determine median and mean\n",
        "print(df['Item_Weight'].mean())\n",
        "print(df['Item_Weight'].median())"
      ],
      "metadata": {
        "colab": {
          "base_uri": "https://localhost:8080/"
        },
        "id": "mFFIrdt1k3O5",
        "outputId": "4532e4dc-e969-414f-bc37-880260db4beb"
      },
      "execution_count": null,
      "outputs": [
        {
          "output_type": "stream",
          "name": "stdout",
          "text": [
            "12.857645184135976\n",
            "12.6\n"
          ]
        }
      ]
    },
    {
      "cell_type": "markdown",
      "source": [
        "*  The distribution for item weight is rather homogeneous across all values.\n",
        "*  Both the mean and median are very close in value.\n",
        "*  I chose the mean given the weight is continuous floating point value, and the wide value spread."
      ],
      "metadata": {
        "id": "jm2zayD1nSzV"
      }
    },
    {
      "cell_type": "code",
      "source": [
        "# fill missing values with mean for item weight\n",
        "df['Item_Weight'].fillna(value = df['Item_Weight'].mean(), inplace = True)\n"
      ],
      "metadata": {
        "id": "4VacsCeHqWfE"
      },
      "execution_count": null,
      "outputs": []
    },
    {
      "cell_type": "markdown",
      "source": [
        "####***Outlet Size***\n",
        "*   Outlet Size has 28.28% missing values, not minimal.\n",
        "*   Chosen method - - **Fill in missing value with ```Unknown```** for _category_ value\n",
        "*   This does introduce errors into the dataset."
      ],
      "metadata": {
        "id": "Zi3ZrvUhqjsW"
      }
    },
    {
      "cell_type": "code",
      "source": [
        "# Medium is the most common value\n",
        "df['Outlet_Size'].value_counts(ascending=False)"
      ],
      "metadata": {
        "colab": {
          "base_uri": "https://localhost:8080/"
        },
        "id": "UCKZg38Mcanu",
        "outputId": "83999b6d-b950-44cf-d226-d2e174058e26"
      },
      "execution_count": null,
      "outputs": [
        {
          "output_type": "execute_result",
          "data": {
            "text/plain": [
              "Medium    2793\n",
              "Small     2388\n",
              "High       932\n",
              "Name: Outlet_Size, dtype: int64"
            ]
          },
          "metadata": {},
          "execution_count": 293
        }
      ]
    },
    {
      "cell_type": "code",
      "source": [
        "plt.style.use(['seaborn-pastel'])\n",
        "large_to_small = df.groupby('Outlet_Size').size().sort_values().index[::-1]\n",
        "ax = sns.countplot(data=df, x = 'Outlet_Size', order=large_to_small);"
      ],
      "metadata": {
        "colab": {
          "base_uri": "https://localhost:8080/"
        },
        "id": "ezEXHXGtcilo",
        "outputId": "66e16350-28cd-40fc-c8c7-9950ac2bf72d"
      },
      "execution_count": null,
      "outputs": [
        {
          "output_type": "display_data",
          "data": {
            "text/plain": [
              "<Figure size 432x288 with 1 Axes>"
            ],
            "image/png": "[encoded data removed]"
          },
          "metadata": {
            "needs_background": "light"
          }
        }
      ]
    },
    {
      "cell_type": "markdown",
      "source": [
        "*   Although **```Medium```** is the most common value, 28.28% of ***Outlet Size*** is missing. \n",
        "*   There is not much difference between the number of ```Small``` versus ```Medium``` outlets:\n",
        "    *   Medium Outlets : 2,793\n",
        "    *   Small Outlets: 2,388.\n",
        "*   This is why I decided to fill with a value of **Unknown**."
      ],
      "metadata": {
        "id": "2fcHaKLpfaSo"
      }
    },
    {
      "cell_type": "code",
      "source": [
        "# fill in with mode - most common value\n",
        "df['Outlet_Size'].fillna(value = 'Unknown', inplace = True)"
      ],
      "metadata": {
        "id": "L4V6r_jdq6zt"
      },
      "execution_count": null,
      "outputs": []
    },
    {
      "cell_type": "markdown",
      "source": [
        "### **6  Final check for Missing Values**\n",
        "\n",
        "---\n",
        "\n",
        "\n",
        "\n",
        "Check the info on the dataframe to ensure there are no longer any missing values!!"
      ],
      "metadata": {
        "id": "A3FHA-pnrGpF"
      }
    },
    {
      "cell_type": "code",
      "source": [
        "# Check that all values filled in\n",
        "df.info()"
      ],
      "metadata": {
        "colab": {
          "base_uri": "https://localhost:8080/"
        },
        "id": "FMr_xwIirL5B",
        "outputId": "7b85e0f5-009e-4117-efa3-994b0d8cbb9c"
      },
      "execution_count": null,
      "outputs": [
        {
          "output_type": "stream",
          "name": "stdout",
          "text": [
            "<class 'pandas.core.frame.DataFrame'>\n",
            "RangeIndex: 8523 entries, 0 to 8522\n",
            "Data columns (total 8 columns):\n",
            " #   Column                Non-Null Count  Dtype  \n",
            "---  ------                --------------  -----  \n",
            " 0   Item_Weight           8523 non-null   float64\n",
            " 1   Item_Fat_Content      8523 non-null   object \n",
            " 2   Item_Visibility       8523 non-null   float64\n",
            " 3   Item_Type             8523 non-null   object \n",
            " 4   Item_MRP              8523 non-null   float64\n",
            " 5   Outlet_Size           8523 non-null   object \n",
            " 6   Outlet_Location_Type  8523 non-null   object \n",
            " 7   Item_Outlet_Sales     8523 non-null   float64\n",
            "dtypes: float64(4), object(4)\n",
            "memory usage: 532.8+ KB\n"
          ]
        }
      ]
    },
    {
      "cell_type": "markdown",
      "source": [
        "### **7  Find and fix any Inconsistent Categories of Data**\n",
        "\n",
        "---\n",
        "\n",
        "\n",
        "\n",
        "####***Numerical***\n",
        "\n",
        "From data info above, floats look consistent with data dictionary:\n",
        "*   Item Weight\n",
        "*   Item Visability\n",
        "*   Item_MRP\n",
        "*   Item_Outlet_Sales\n",
        "\n",
        "####***Categorical***\n",
        "\n",
        "Next, check categorical values for inconsistent data.\n"
      ],
      "metadata": {
        "id": "RopfkQSVrqrD"
      }
    },
    {
      "cell_type": "code",
      "source": [
        "# find string data \n",
        "data_types = df.dtypes\n",
        "str_cols = data_types[data_types=='object'].index\n",
        "str_cols"
      ],
      "metadata": {
        "colab": {
          "base_uri": "https://localhost:8080/"
        },
        "id": "pccgCzIdSNJP",
        "outputId": "26687dc5-cc35-4867-9535-0a4d95241d36"
      },
      "execution_count": null,
      "outputs": [
        {
          "output_type": "execute_result",
          "data": {
            "text/plain": [
              "Index(['Item_Fat_Content', 'Item_Type', 'Outlet_Size', 'Outlet_Location_Type'], dtype='object')"
            ]
          },
          "metadata": {},
          "execution_count": 297
        }
      ]
    },
    {
      "cell_type": "code",
      "source": [
        "# loop through string data to inspect for inconsistent values\n",
        "for col in str_cols:\n",
        "   print(f'= {col}:')\n",
        "   print(df[col].value_counts(dropna=False))\n",
        "   print(\"\\n\\n\")"
      ],
      "metadata": {
        "colab": {
          "base_uri": "https://localhost:8080/"
        },
        "id": "Sov92T-kTDof",
        "outputId": "eae3242a-0836-489f-ff5e-de7684c19589"
      },
      "execution_count": null,
      "outputs": [
        {
          "output_type": "stream",
          "name": "stdout",
          "text": [
            "= Item_Fat_Content:\n",
            "Low Fat    5089\n",
            "Regular    2889\n",
            "LF          316\n",
            "reg         117\n",
            "low fat     112\n",
            "Name: Item_Fat_Content, dtype: int64\n",
            "\n",
            "\n",
            "\n",
            "= Item_Type:\n",
            "Fruits and Vegetables    1232\n",
            "Snack Foods              1200\n",
            "Household                 910\n",
            "Frozen Foods              856\n",
            "Dairy                     682\n",
            "Canned                    649\n",
            "Baking Goods              648\n",
            "Health and Hygiene        520\n",
            "Soft Drinks               445\n",
            "Meat                      425\n",
            "Breads                    251\n",
            "Hard Drinks               214\n",
            "Others                    169\n",
            "Starchy Foods             148\n",
            "Breakfast                 110\n",
            "Seafood                    64\n",
            "Name: Item_Type, dtype: int64\n",
            "\n",
            "\n",
            "\n",
            "= Outlet_Size:\n",
            "Medium     2793\n",
            "Unknown    2410\n",
            "Small      2388\n",
            "High        932\n",
            "Name: Outlet_Size, dtype: int64\n",
            "\n",
            "\n",
            "\n",
            "= Outlet_Location_Type:\n",
            "Tier 3    3350\n",
            "Tier 2    2785\n",
            "Tier 1    2388\n",
            "Name: Outlet_Location_Type, dtype: int64\n",
            "\n",
            "\n",
            "\n"
          ]
        }
      ]
    },
    {
      "cell_type": "markdown",
      "source": [
        "*   Only **Item Fat Content** has inconsistent values, per the data dictionary."
      ],
      "metadata": {
        "id": "Bo3DLWeEqslz"
      }
    },
    {
      "cell_type": "markdown",
      "source": [
        "####***Item Fat Content***"
      ],
      "metadata": {
        "id": "33uVCiQussOw"
      }
    },
    {
      "cell_type": "code",
      "source": [
        "# values for item fat content\n",
        "df['Item_Fat_Content'].value_counts()"
      ],
      "metadata": {
        "colab": {
          "base_uri": "https://localhost:8080/"
        },
        "id": "fsMpCskoskNS",
        "outputId": "f1c23a6a-03d3-46cd-92ea-04b8bfdd7cab"
      },
      "execution_count": null,
      "outputs": [
        {
          "output_type": "execute_result",
          "data": {
            "text/plain": [
              "Low Fat    5089\n",
              "Regular    2889\n",
              "LF          316\n",
              "reg         117\n",
              "low fat     112\n",
              "Name: Item_Fat_Content, dtype: int64"
            ]
          },
          "metadata": {},
          "execution_count": 299
        }
      ]
    },
    {
      "cell_type": "code",
      "source": [
        "# replace inconsistent values for item fat content\n",
        "df.replace(['LF','low fat'], ['Low Fat', 'Low Fat'], inplace = True)\n",
        "df.replace(['reg'], ['Regular'], inplace = True)"
      ],
      "metadata": {
        "id": "3Zhv5K9hspMf"
      },
      "execution_count": null,
      "outputs": []
    },
    {
      "cell_type": "code",
      "source": [
        "# check after replacing for consistent values\n",
        "df['Item_Fat_Content'].value_counts()"
      ],
      "metadata": {
        "colab": {
          "base_uri": "https://localhost:8080/"
        },
        "id": "Z280Od3fs7Qu",
        "outputId": "3db6777e-cc29-49e5-f48a-7107246825fe"
      },
      "execution_count": null,
      "outputs": [
        {
          "output_type": "execute_result",
          "data": {
            "text/plain": [
              "Low Fat    5517\n",
              "Regular    3006\n",
              "Name: Item_Fat_Content, dtype: int64"
            ]
          },
          "metadata": {},
          "execution_count": 301
        }
      ]
    },
    {
      "cell_type": "markdown",
      "source": [
        "### **8 Summary Statistics for Numeric Features**\n",
        "\n",
        "---\n",
        "\n"
      ],
      "metadata": {
        "id": "S6QgabQUtu-p"
      }
    },
    {
      "cell_type": "code",
      "source": [
        "# summary statistics for numerical values\n",
        "df.describe().round(2)"
      ],
      "metadata": {
        "colab": {
          "base_uri": "https://localhost:8080/"
        },
        "id": "1L7gfCzyuIsD",
        "outputId": "f7cf564e-4d3a-4571-9568-66fb39aea770"
      },
      "execution_count": null,
      "outputs": [
        {
          "output_type": "execute_result",
          "data": {
            "text/plain": [
              "       Item_Weight  Item_Visibility  Item_MRP  Item_Outlet_Sales\n",
              "count      8523.00          8523.00   8523.00            8523.00\n",
              "mean         12.86             0.07    140.99            2181.29\n",
              "std           4.23             0.05     62.28            1706.50\n",
              "min           4.56             0.00     31.29              33.29\n",
              "25%           9.31             0.03     93.83             834.25\n",
              "50%          12.86             0.05    143.01            1794.33\n",
              "75%          16.00             0.09    185.64            3101.30\n",
              "max          21.35             0.33    266.89           13086.96"
            ],
            "text/html": [
              "\n",
              "  <div id=\"df-dbe19a5f-64fb-4e9b-8e2d-aeeebc093218\">\n",
              "    <div class=\"colab-df-container\">\n",
              "      <div>\n",
              "<style scoped>\n",
              "    .dataframe tbody tr th:only-of-type {\n",
              "        vertical-align: middle;\n",
              "    }\n",
              "\n",
              "    .dataframe tbody tr th {\n",
              "        vertical-align: top;\n",
              "    }\n",
              "\n",
              "    .dataframe thead th {\n",
              "        text-align: right;\n",
              "    }\n",
              "</style>\n",
              "<table border=\"1\" class=\"dataframe\">\n",
              "  <thead>\n",
              "    <tr style=\"text-align: right;\">\n",
              "      <th></th>\n",
              "      <th>Item_Weight</th>\n",
              "      <th>Item_Visibility</th>\n",
              "      <th>Item_MRP</th>\n",
              "      <th>Item_Outlet_Sales</th>\n",
              "    </tr>\n",
              "  </thead>\n",
              "  <tbody>\n",
              "    <tr>\n",
              "      <th>count</th>\n",
              "      <td>8523.00</td>\n",
              "      <td>8523.00</td>\n",
              "      <td>8523.00</td>\n",
              "      <td>8523.00</td>\n",
              "    </tr>\n",
              "    <tr>\n",
              "      <th>mean</th>\n",
              "      <td>12.86</td>\n",
              "      <td>0.07</td>\n",
              "      <td>140.99</td>\n",
              "      <td>2181.29</td>\n",
              "    </tr>\n",
              "    <tr>\n",
              "      <th>std</th>\n",
              "      <td>4.23</td>\n",
              "      <td>0.05</td>\n",
              "      <td>62.28</td>\n",
              "      <td>1706.50</td>\n",
              "    </tr>\n",
              "    <tr>\n",
              "      <th>min</th>\n",
              "      <td>4.56</td>\n",
              "      <td>0.00</td>\n",
              "      <td>31.29</td>\n",
              "      <td>33.29</td>\n",
              "    </tr>\n",
              "    <tr>\n",
              "      <th>25%</th>\n",
              "      <td>9.31</td>\n",
              "      <td>0.03</td>\n",
              "      <td>93.83</td>\n",
              "      <td>834.25</td>\n",
              "    </tr>\n",
              "    <tr>\n",
              "      <th>50%</th>\n",
              "      <td>12.86</td>\n",
              "      <td>0.05</td>\n",
              "      <td>143.01</td>\n",
              "      <td>1794.33</td>\n",
              "    </tr>\n",
              "    <tr>\n",
              "      <th>75%</th>\n",
              "      <td>16.00</td>\n",
              "      <td>0.09</td>\n",
              "      <td>185.64</td>\n",
              "      <td>3101.30</td>\n",
              "    </tr>\n",
              "    <tr>\n",
              "      <th>max</th>\n",
              "      <td>21.35</td>\n",
              "      <td>0.33</td>\n",
              "      <td>266.89</td>\n",
              "      <td>13086.96</td>\n",
              "    </tr>\n",
              "  </tbody>\n",
              "</table>\n",
              "</div>\n",
              "      <button class=\"colab-df-convert\" onclick=\"convertToInteractive('df-dbe19a5f-64fb-4e9b-8e2d-aeeebc093218')\"\n",
              "              title=\"Convert this dataframe to an interactive table.\"\n",
              "              style=\"display:none;\">\n",
              "        \n",
              "  <svg xmlns=\"http://www.w3.org/2000/svg\" height=\"24px\"viewBox=\"0 0 24 24\"\n",
              "       width=\"24px\">\n",
              "    <path d=\"M0 0h24v24H0V0z\" fill=\"none\"/>\n",
              "    <path d=\"M18.56 5.44l.94 2.06.94-2.06 2.06-.94-2.06-.94-.94-2.06-.94 2.06-2.06.94zm-11 1L8.5 8.5l.94-2.06 2.06-.94-2.06-.94L8.5 2.5l-.94 2.06-2.06.94zm10 10l.94 2.06.94-2.06 2.06-.94-2.06-.94-.94-2.06-.94 2.06-2.06.94z\"/><path d=\"M17.41 7.96l-1.37-1.37c-.4-.4-.92-.59-1.43-.59-.52 0-1.04.2-1.43.59L10.3 9.45l-7.72 7.72c-.78.78-.78 2.05 0 2.83L4 21.41c.39.39.9.59 1.41.59.51 0 1.02-.2 1.41-.59l7.78-7.78 2.81-2.81c.8-.78.8-2.07 0-2.86zM5.41 20L4 18.59l7.72-7.72 1.47 1.35L5.41 20z\"/>\n",
              "  </svg>\n",
              "      </button>\n",
              "      \n",
              "  <style>\n",
              "    .colab-df-container {\n",
              "      display:flex;\n",
              "      flex-wrap:wrap;\n",
              "      gap: 12px;\n",
              "    }\n",
              "\n",
              "    .colab-df-convert {\n",
              "      background-color: #E8F0FE;\n",
              "      border: none;\n",
              "      border-radius: 50%;\n",
              "      cursor: pointer;\n",
              "      display: none;\n",
              "      fill: #1967D2;\n",
              "      height: 32px;\n",
              "      padding: 0 0 0 0;\n",
              "      width: 32px;\n",
              "    }\n",
              "\n",
              "    .colab-df-convert:hover {\n",
              "      background-color: #E2EBFA;\n",
              "      box-shadow: 0px 1px 2px rgba(60, 64, 67, 0.3), 0px 1px 3px 1px rgba(60, 64, 67, 0.15);\n",
              "      fill: #174EA6;\n",
              "    }\n",
              "\n",
              "    [theme=dark] .colab-df-convert {\n",
              "      background-color: #3B4455;\n",
              "      fill: #D2E3FC;\n",
              "    }\n",
              "\n",
              "    [theme=dark] .colab-df-convert:hover {\n",
              "      background-color: #434B5C;\n",
              "      box-shadow: 0px 1px 3px 1px rgba(0, 0, 0, 0.15);\n",
              "      filter: drop-shadow(0px 1px 2px rgba(0, 0, 0, 0.3));\n",
              "      fill: #FFFFFF;\n",
              "    }\n",
              "  </style>\n",
              "\n",
              "      <script>\n",
              "        const buttonEl =\n",
              "          document.querySelector('#df-dbe19a5f-64fb-4e9b-8e2d-aeeebc093218 button.colab-df-convert');\n",
              "        buttonEl.style.display =\n",
              "          google.colab.kernel.accessAllowed ? 'block' : 'none';\n",
              "\n",
              "        async function convertToInteractive(key) {\n",
              "          const element = document.querySelector('#df-dbe19a5f-64fb-4e9b-8e2d-aeeebc093218');\n",
              "          const dataTable =\n",
              "            await google.colab.kernel.invokeFunction('convertToInteractive',\n",
              "                                                     [key], {});\n",
              "          if (!dataTable) return;\n",
              "\n",
              "          const docLinkHtml = 'Like what you see? Visit the ' +\n",
              "            '<a target=\"_blank\" href=https://colab.research.google.com/notebooks/data_table.ipynb>data table notebook</a>'\n",
              "            + ' to learn more about interactive tables.';\n",
              "          element.innerHTML = '';\n",
              "          dataTable['output_type'] = 'display_data';\n",
              "          await google.colab.output.renderOutput(dataTable, element);\n",
              "          const docLink = document.createElement('div');\n",
              "          docLink.innerHTML = docLinkHtml;\n",
              "          element.appendChild(docLink);\n",
              "        }\n",
              "      </script>\n",
              "    </div>\n",
              "  </div>\n",
              "  "
            ]
          },
          "metadata": {},
          "execution_count": 302
        }
      ]
    },
    {
      "cell_type": "code",
      "source": [
        "# another way to show min, max, & mean\n",
        "summary_stats = df.describe()\n",
        "summary_stats.loc[['min','max','mean']]"
      ],
      "metadata": {
        "colab": {
          "base_uri": "https://localhost:8080/"
        },
        "id": "bRsZHEhguR1I",
        "outputId": "d2fc9876-8e83-4208-e888-030834aa184e"
      },
      "execution_count": null,
      "outputs": [
        {
          "output_type": "execute_result",
          "data": {
            "text/plain": [
              "      Item_Weight  Item_Visibility    Item_MRP  Item_Outlet_Sales\n",
              "min      4.555000         0.000000   31.290000          33.290000\n",
              "max     21.350000         0.328391  266.888400       13086.964800\n",
              "mean    12.857645         0.066132  140.992782        2181.288914"
            ],
            "text/html": [
              "\n",
              "  <div id=\"df-f4e2b8b3-97e4-42af-abc6-fb98543702ab\">\n",
              "    <div class=\"colab-df-container\">\n",
              "      <div>\n",
              "<style scoped>\n",
              "    .dataframe tbody tr th:only-of-type {\n",
              "        vertical-align: middle;\n",
              "    }\n",
              "\n",
              "    .dataframe tbody tr th {\n",
              "        vertical-align: top;\n",
              "    }\n",
              "\n",
              "    .dataframe thead th {\n",
              "        text-align: right;\n",
              "    }\n",
              "</style>\n",
              "<table border=\"1\" class=\"dataframe\">\n",
              "  <thead>\n",
              "    <tr style=\"text-align: right;\">\n",
              "      <th></th>\n",
              "      <th>Item_Weight</th>\n",
              "      <th>Item_Visibility</th>\n",
              "      <th>Item_MRP</th>\n",
              "      <th>Item_Outlet_Sales</th>\n",
              "    </tr>\n",
              "  </thead>\n",
              "  <tbody>\n",
              "    <tr>\n",
              "      <th>min</th>\n",
              "      <td>4.555000</td>\n",
              "      <td>0.000000</td>\n",
              "      <td>31.290000</td>\n",
              "      <td>33.290000</td>\n",
              "    </tr>\n",
              "    <tr>\n",
              "      <th>max</th>\n",
              "      <td>21.350000</td>\n",
              "      <td>0.328391</td>\n",
              "      <td>266.888400</td>\n",
              "      <td>13086.964800</td>\n",
              "    </tr>\n",
              "    <tr>\n",
              "      <th>mean</th>\n",
              "      <td>12.857645</td>\n",
              "      <td>0.066132</td>\n",
              "      <td>140.992782</td>\n",
              "      <td>2181.288914</td>\n",
              "    </tr>\n",
              "  </tbody>\n",
              "</table>\n",
              "</div>\n",
              "      <button class=\"colab-df-convert\" onclick=\"convertToInteractive('df-f4e2b8b3-97e4-42af-abc6-fb98543702ab')\"\n",
              "              title=\"Convert this dataframe to an interactive table.\"\n",
              "              style=\"display:none;\">\n",
              "        \n",
              "  <svg xmlns=\"http://www.w3.org/2000/svg\" height=\"24px\"viewBox=\"0 0 24 24\"\n",
              "       width=\"24px\">\n",
              "    <path d=\"M0 0h24v24H0V0z\" fill=\"none\"/>\n",
              "    <path d=\"M18.56 5.44l.94 2.06.94-2.06 2.06-.94-2.06-.94-.94-2.06-.94 2.06-2.06.94zm-11 1L8.5 8.5l.94-2.06 2.06-.94-2.06-.94L8.5 2.5l-.94 2.06-2.06.94zm10 10l.94 2.06.94-2.06 2.06-.94-2.06-.94-.94-2.06-.94 2.06-2.06.94z\"/><path d=\"M17.41 7.96l-1.37-1.37c-.4-.4-.92-.59-1.43-.59-.52 0-1.04.2-1.43.59L10.3 9.45l-7.72 7.72c-.78.78-.78 2.05 0 2.83L4 21.41c.39.39.9.59 1.41.59.51 0 1.02-.2 1.41-.59l7.78-7.78 2.81-2.81c.8-.78.8-2.07 0-2.86zM5.41 20L4 18.59l7.72-7.72 1.47 1.35L5.41 20z\"/>\n",
              "  </svg>\n",
              "      </button>\n",
              "      \n",
              "  <style>\n",
              "    .colab-df-container {\n",
              "      display:flex;\n",
              "      flex-wrap:wrap;\n",
              "      gap: 12px;\n",
              "    }\n",
              "\n",
              "    .colab-df-convert {\n",
              "      background-color: #E8F0FE;\n",
              "      border: none;\n",
              "      border-radius: 50%;\n",
              "      cursor: pointer;\n",
              "      display: none;\n",
              "      fill: #1967D2;\n",
              "      height: 32px;\n",
              "      padding: 0 0 0 0;\n",
              "      width: 32px;\n",
              "    }\n",
              "\n",
              "    .colab-df-convert:hover {\n",
              "      background-color: #E2EBFA;\n",
              "      box-shadow: 0px 1px 2px rgba(60, 64, 67, 0.3), 0px 1px 3px 1px rgba(60, 64, 67, 0.15);\n",
              "      fill: #174EA6;\n",
              "    }\n",
              "\n",
              "    [theme=dark] .colab-df-convert {\n",
              "      background-color: #3B4455;\n",
              "      fill: #D2E3FC;\n",
              "    }\n",
              "\n",
              "    [theme=dark] .colab-df-convert:hover {\n",
              "      background-color: #434B5C;\n",
              "      box-shadow: 0px 1px 3px 1px rgba(0, 0, 0, 0.15);\n",
              "      filter: drop-shadow(0px 1px 2px rgba(0, 0, 0, 0.3));\n",
              "      fill: #FFFFFF;\n",
              "    }\n",
              "  </style>\n",
              "\n",
              "      <script>\n",
              "        const buttonEl =\n",
              "          document.querySelector('#df-f4e2b8b3-97e4-42af-abc6-fb98543702ab button.colab-df-convert');\n",
              "        buttonEl.style.display =\n",
              "          google.colab.kernel.accessAllowed ? 'block' : 'none';\n",
              "\n",
              "        async function convertToInteractive(key) {\n",
              "          const element = document.querySelector('#df-f4e2b8b3-97e4-42af-abc6-fb98543702ab');\n",
              "          const dataTable =\n",
              "            await google.colab.kernel.invokeFunction('convertToInteractive',\n",
              "                                                     [key], {});\n",
              "          if (!dataTable) return;\n",
              "\n",
              "          const docLinkHtml = 'Like what you see? Visit the ' +\n",
              "            '<a target=\"_blank\" href=https://colab.research.google.com/notebooks/data_table.ipynb>data table notebook</a>'\n",
              "            + ' to learn more about interactive tables.';\n",
              "          element.innerHTML = '';\n",
              "          dataTable['output_type'] = 'display_data';\n",
              "          await google.colab.output.renderOutput(dataTable, element);\n",
              "          const docLink = document.createElement('div');\n",
              "          docLink.innerHTML = docLinkHtml;\n",
              "          element.appendChild(docLink);\n",
              "        }\n",
              "      </script>\n",
              "    </div>\n",
              "  </div>\n",
              "  "
            ]
          },
          "metadata": {},
          "execution_count": 303
        }
      ]
    },
    {
      "cell_type": "markdown",
      "source": [
        "#Project 1 - Part 3<a name=\"Project 1 Part 3\">\n",
        "\n",
        "---\n",
        "\n",
        "\n",
        "\n",
        "For Part 3, your task is to complete any statistical analyses that might help you understand, explain, or model with your data. This must include at least one of each:\n",
        "\n",
        "Histogram to view the distributions of various features in your dataset.\n",
        "Boxplot to view statistical summaries of various features in your dataset.\n",
        "Heatmap of the correlation between features.\n",
        "Please feel free to add more than the minimum. Remember this is your chance to display your skills!"
      ],
      "metadata": {
        "id": "EylwIDzas5_5"
      }
    },
    {
      "cell_type": "markdown",
      "source": [
        "##Exploratory Visuals & Analysis\n",
        "\n",
        "* There are many different ways to explore data.\n",
        "* EDA allows us to explore our data, and get a better understanding of trends, features of the data."
      ],
      "metadata": {
        "id": "edXGLVMbeHhH"
      }
    },
    {
      "cell_type": "code",
      "source": [
        "# check data info\n",
        "df.info()"
      ],
      "metadata": {
        "id": "ZyrSdr48ePDF",
        "colab": {
          "base_uri": "https://localhost:8080/"
        },
        "outputId": "c86ca973-90b3-487c-f99a-825f77bb95f8"
      },
      "execution_count": null,
      "outputs": [
        {
          "output_type": "stream",
          "name": "stdout",
          "text": [
            "<class 'pandas.core.frame.DataFrame'>\n",
            "RangeIndex: 8523 entries, 0 to 8522\n",
            "Data columns (total 8 columns):\n",
            " #   Column                Non-Null Count  Dtype  \n",
            "---  ------                --------------  -----  \n",
            " 0   Item_Weight           8523 non-null   float64\n",
            " 1   Item_Fat_Content      8523 non-null   object \n",
            " 2   Item_Visibility       8523 non-null   float64\n",
            " 3   Item_Type             8523 non-null   object \n",
            " 4   Item_MRP              8523 non-null   float64\n",
            " 5   Outlet_Size           8523 non-null   object \n",
            " 6   Outlet_Location_Type  8523 non-null   object \n",
            " 7   Item_Outlet_Sales     8523 non-null   float64\n",
            "dtypes: float64(4), object(4)\n",
            "memory usage: 532.8+ KB\n"
          ]
        }
      ]
    },
    {
      "cell_type": "markdown",
      "source": [
        "###***Numerical***\n",
        "\n",
        "\n",
        "---\n",
        "\n",
        "\n",
        "* For each numerical feature, we will plot the distribution, as well as a boxplot.\n",
        "* Boxplots will tell us if there are any outliers."
      ],
      "metadata": {
        "id": "aMcS3dDEuwST"
      }
    },
    {
      "cell_type": "code",
      "source": [
        "# find numerical column names\n",
        "num_cols = df.select_dtypes('number').columns\n",
        "num_cols"
      ],
      "metadata": {
        "colab": {
          "base_uri": "https://localhost:8080/"
        },
        "id": "oIb4x8x6vGn0",
        "outputId": "e5ccfdb3-66f2-45e2-f733-a2bd79d1f362"
      },
      "execution_count": null,
      "outputs": [
        {
          "output_type": "execute_result",
          "data": {
            "text/plain": [
              "Index(['Item_Weight', 'Item_Visibility', 'Item_MRP', 'Item_Outlet_Sales'], dtype='object')"
            ]
          },
          "metadata": {},
          "execution_count": 305
        }
      ]
    },
    {
      "cell_type": "code",
      "source": [
        "def plot_numeric(df,col):\n",
        "  \"\"\"EDA function to plot histogram and boxplot for selected column\"\"\"\n",
        "  # figure and axes share same x-axis\n",
        "  fig, axes = plt.subplots(nrows=2,figsize=(10,5),sharex=True)\n",
        "\n",
        "  # seaborn plots with axes[i]\n",
        "  sns.histplot(data=df,x=col,ax=axes[0])\n",
        "  # plot shows mean value\n",
        "  mean_value=df[col].mean()\n",
        "  axes[0].axvline(mean_value,color='purple',ls='--',\n",
        "                  label=f\"Mean Value = ${mean_value:,.2f}\",);\n",
        "  # plot shows median value\n",
        "  median_value = df[col].median()\n",
        "  axes[0].axvline(median_value,color='k',ls='-',\n",
        "                  label=f\"Median Value = ${median_value:,.2f}\");\n",
        "  sns.boxplot(data=df, x = col, ax = axes[1])\n",
        "\n",
        "  # title for top graph\n",
        "  axes[0].set_title(f'EDA for {col}')\n",
        "\n",
        "  # format to save figure plot to not be cutoff\n",
        "  plt.tight_layout()\n",
        "  plt.show()"
      ],
      "metadata": {
        "id": "f48fCRgxvaTA"
      },
      "execution_count": null,
      "outputs": []
    },
    {
      "cell_type": "markdown",
      "source": [
        "####***EDA for Food Item Outlet Sales***"
      ],
      "metadata": {
        "id": "W5VGzPSlcE4h"
      }
    },
    {
      "cell_type": "code",
      "source": [
        "plot_numeric(df,'Item_Outlet_Sales')"
      ],
      "metadata": {
        "colab": {
          "base_uri": "https://localhost:8080/"
        },
        "id": "to2o2TclzVCk",
        "outputId": "e7dc6d1b-0159-49bc-f673-6d8ee8912247"
      },
      "execution_count": null,
      "outputs": [
        {
          "output_type": "display_data",
          "data": {
            "text/plain": [
              "<Figure size 720x360 with 2 Axes>"
            ],
            "image/png": "[encoded data removed]"
          },
          "metadata": {
            "needs_background": "light"
          }
        }
      ]
    },
    {
      "cell_type": "markdown",
      "source": [
        "*  Histogram skews to the right.\n",
        "*  There are a number of outliers for food item sales, likely due to large variety of foods, number of items.\n"
      ],
      "metadata": {
        "id": "r1LzxwGMe2uQ"
      }
    },
    {
      "cell_type": "markdown",
      "source": [
        "####***EDA for Food Item Weight***"
      ],
      "metadata": {
        "id": "LV_WDMGDfnIq"
      }
    },
    {
      "cell_type": "code",
      "source": [
        "plot_numeric(df,'Item_Weight')"
      ],
      "metadata": {
        "colab": {
          "base_uri": "https://localhost:8080/"
        },
        "id": "iS-z0peg2bWI",
        "outputId": "f39617da-f346-48df-ed7b-22a8fbc216e6"
      },
      "execution_count": null,
      "outputs": [
        {
          "output_type": "display_data",
          "data": {
            "text/plain": [
              "<Figure size 720x360 with 2 Axes>"
            ],
            "image/png": "[encoded data removed]"
          },
          "metadata": {
            "needs_background": "light"
          }
        }
      ]
    },
    {
      "cell_type": "markdown",
      "source": [
        "*  The average weight and median weight value is very close in value, practically the same.\n",
        "*  There is a broad distribution of weights."
      ],
      "metadata": {
        "id": "w5ZFlJyHhCp9"
      }
    },
    {
      "cell_type": "markdown",
      "source": [
        "####***EDA for Food Item Retail Price***"
      ],
      "metadata": {
        "id": "eF1do1flhbyw"
      }
    },
    {
      "cell_type": "code",
      "source": [
        "plot_numeric(df,'Item_MRP')"
      ],
      "metadata": {
        "colab": {
          "base_uri": "https://localhost:8080/"
        },
        "id": "nQq_ISU149Ox",
        "outputId": "1c17f0e2-2711-434c-d3d7-a80bf18ebf89"
      },
      "execution_count": null,
      "outputs": [
        {
          "output_type": "display_data",
          "data": {
            "text/plain": [
              "<Figure size 720x360 with 2 Axes>"
            ],
            "image/png": "[encoded data removed]"
          },
          "metadata": {
            "needs_background": "light"
          }
        }
      ]
    },
    {
      "cell_type": "code",
      "source": [
        "# average retail price\n",
        "df['Item_MRP'].mean()"
      ],
      "metadata": {
        "colab": {
          "base_uri": "https://localhost:8080/"
        },
        "id": "OKee9bk7h6-X",
        "outputId": "5a38b8bc-5d79-49d9-ab41-68da86d4124f"
      },
      "execution_count": null,
      "outputs": [
        {
          "output_type": "execute_result",
          "data": {
            "text/plain": [
              "140.9927819781767"
            ]
          },
          "metadata": {},
          "execution_count": 310
        }
      ]
    },
    {
      "cell_type": "markdown",
      "source": [
        "*  There is a wide range of retail prices.\n",
        "*  The average retail price and median value are close in value."
      ],
      "metadata": {
        "id": "ZrvnHfp6huyS"
      }
    },
    {
      "cell_type": "markdown",
      "source": [
        "####***EDA for Food Item Visibility***"
      ],
      "metadata": {
        "id": "EFQZtUZ5ijGG"
      }
    },
    {
      "cell_type": "code",
      "source": [
        "plot_numeric(df,'Item_Visibility')"
      ],
      "metadata": {
        "colab": {
          "base_uri": "https://localhost:8080/"
        },
        "id": "MYjjkuO95PCs",
        "outputId": "a28502b0-8921-435a-e04d-9e8a413aeb4d"
      },
      "execution_count": null,
      "outputs": [
        {
          "output_type": "display_data",
          "data": {
            "text/plain": [
              "<Figure size 720x360 with 2 Axes>"
            ],
            "image/png": "[encoded data removed]"
          },
          "metadata": {
            "needs_background": "light"
          }
        }
      ]
    },
    {
      "cell_type": "markdown",
      "source": [
        "* The percentage of store area for most products is quite low, between approximately 3% to 9%.\n",
        "* There are a large number of outlier values, with visibility above the 75th percentile, around 20%."
      ],
      "metadata": {
        "id": "fVeJ5eT5iv0d"
      }
    },
    {
      "cell_type": "markdown",
      "source": [
        "###***Categorical***\n",
        "\n",
        "---\n",
        "\n",
        "\n",
        "####Visualizing with Barplots\n",
        "\n",
        "* Barplots can be used to show the categorical counts of data."
      ],
      "metadata": {
        "id": "9qHRj36ijb_d"
      }
    },
    {
      "cell_type": "code",
      "source": [
        "# create function to plot a barplot\n",
        "def plot_bar(data,x,y,figsize=(10,5)):\n",
        "  # sets the figure size\n",
        "  fig, ax = plt.subplots(figsize=figsize)\n",
        "  \n",
        "  # determine the value counts for each category, sort in descending order\n",
        "  counts = df[x].value_counts().sort_values(ascending=False).to_frame()\n",
        "\n",
        "  # plot barplot\n",
        "  sns.barplot(data=counts, x=counts.index, y=counts[x],ax=ax)\n",
        "\n",
        "  # show x axis labels at 90 degrees so don't run together\n",
        "  plt.xticks(rotation=90)\n",
        "  # set title, x axis , & y axis\n",
        "  ax.set_title(f'Categorical Frequencies of {y}',fontsize=20, fontweight='bold');\n",
        "  ax.set_xlabel(f'Categories for {y}', fontsize=15, fontweight = 'bold')\n",
        "  ax.set_ylabel('Counts',fontsize=15, fontweight='bold')\n",
        "  \n",
        "  return fig,ax"
      ],
      "metadata": {
        "id": "_8ppChbzLbgz"
      },
      "execution_count": null,
      "outputs": []
    },
    {
      "cell_type": "markdown",
      "source": [
        "####***Categorical Frequency for Food Item Fat Content***"
      ],
      "metadata": {
        "id": "ht7pNTb3lzgG"
      }
    },
    {
      "cell_type": "code",
      "source": [
        "fig, ax = plot_bar(df, 'Item_Fat_Content','Item Fat Content');\n",
        "plt.show()\n",
        "print(df['Item_Fat_Content'].value_counts())"
      ],
      "metadata": {
        "colab": {
          "base_uri": "https://localhost:8080/"
        },
        "id": "n-tG1CFcK-hp",
        "outputId": "d369707f-b9d3-4cf4-94a9-2e0247332e76"
      },
      "execution_count": null,
      "outputs": [
        {
          "output_type": "display_data",
          "data": {
            "text/plain": [
              "<Figure size 720x360 with 1 Axes>"
            ],
            "image/png": "[encoded data removed]"
          },
          "metadata": {
            "needs_background": "light"
          }
        },
        {
          "output_type": "stream",
          "name": "stdout",
          "text": [
            "Low Fat    5517\n",
            "Regular    3006\n",
            "Name: Item_Fat_Content, dtype: int64\n"
          ]
        }
      ]
    },
    {
      "cell_type": "markdown",
      "source": [
        "* There are nearly twice as many Low Fat food items than Regular or more fat content."
      ],
      "metadata": {
        "id": "ICuABZf_lU2L"
      }
    },
    {
      "cell_type": "markdown",
      "source": [
        "####***Categorical Frequency for Food Item Type***\n",
        "\n",
        "```\n",
        "# This is formatted as code\n",
        "```\n",
        "\n",
        "***"
      ],
      "metadata": {
        "id": "P90mN5O7mHiJ"
      }
    },
    {
      "cell_type": "code",
      "source": [
        "fig, ax = plot_bar(df, 'Item_Type','Item Type');\n",
        "plt.show()\n",
        "print(df['Item_Type'].value_counts())"
      ],
      "metadata": {
        "colab": {
          "base_uri": "https://localhost:8080/"
        },
        "id": "vqahvLMVK_FR",
        "outputId": "8cd03df4-74e3-4317-aa25-558b6a6414bc"
      },
      "execution_count": null,
      "outputs": [
        {
          "output_type": "display_data",
          "data": {
            "text/plain": [
              "<Figure size 720x360 with 1 Axes>"
            ],
            "image/png": "[encoded data removed]"
          },
          "metadata": {
            "needs_background": "light"
          }
        },
        {
          "output_type": "stream",
          "name": "stdout",
          "text": [
            "Fruits and Vegetables    1232\n",
            "Snack Foods              1200\n",
            "Household                 910\n",
            "Frozen Foods              856\n",
            "Dairy                     682\n",
            "Canned                    649\n",
            "Baking Goods              648\n",
            "Health and Hygiene        520\n",
            "Soft Drinks               445\n",
            "Meat                      425\n",
            "Breads                    251\n",
            "Hard Drinks               214\n",
            "Others                    169\n",
            "Starchy Foods             148\n",
            "Breakfast                 110\n",
            "Seafood                    64\n",
            "Name: Item_Type, dtype: int64\n"
          ]
        }
      ]
    },
    {
      "cell_type": "markdown",
      "source": [
        "* Fruits & vegetables, Snacks, and Household items, such as toilet paper, are the top 3 items sold!\n",
        "* Seafood is the least food item sold."
      ],
      "metadata": {
        "id": "Z0hStFX6mXpP"
      }
    },
    {
      "cell_type": "markdown",
      "source": [
        "####***Categorical Frequency for Outlet Size***"
      ],
      "metadata": {
        "id": "fNHxPvPYmyEV"
      }
    },
    {
      "cell_type": "code",
      "source": [
        "fig, ax = plot_bar(df, 'Outlet_Size','Outlet Size');\n",
        "plt.show()\n",
        "print(df['Outlet_Size'].value_counts())"
      ],
      "metadata": {
        "colab": {
          "base_uri": "https://localhost:8080/"
        },
        "id": "OlRiaewZLALW",
        "outputId": "218531ee-8bdd-4e39-b4b8-937fb400a7f2"
      },
      "execution_count": null,
      "outputs": [
        {
          "output_type": "display_data",
          "data": {
            "text/plain": [
              "<Figure size 720x360 with 1 Axes>"
            ],
            "image/png": "[encoded data removed]"
          },
          "metadata": {
            "needs_background": "light"
          }
        },
        {
          "output_type": "stream",
          "name": "stdout",
          "text": [
            "Medium     2793\n",
            "Unknown    2410\n",
            "Small      2388\n",
            "High        932\n",
            "Name: Outlet_Size, dtype: int64\n"
          ]
        }
      ]
    },
    {
      "cell_type": "markdown",
      "source": [
        "* High or presumably large Outlet Size is the least common size of Outlet store.\n",
        "* The unknown or missing values correlates with Small Outlet size, but without subject matter expertise, it is hard to know the true missing values."
      ],
      "metadata": {
        "id": "_B1AukJMnIzN"
      }
    },
    {
      "cell_type": "markdown",
      "source": [
        "####***Categorical Frequency for Outlet Size***"
      ],
      "metadata": {
        "id": "i0IttUr2n411"
      }
    },
    {
      "cell_type": "code",
      "source": [
        "fig, ax = plot_bar(df, 'Outlet_Location_Type','Outlet Location Type');\n",
        "plt.show()\n",
        "print(df['Outlet_Location_Type'].value_counts())"
      ],
      "metadata": {
        "colab": {
          "base_uri": "https://localhost:8080/"
        },
        "id": "rqzalyPBSET6",
        "outputId": "00d3b95f-a0e6-44b9-a961-24e0e546a7bd"
      },
      "execution_count": null,
      "outputs": [
        {
          "output_type": "display_data",
          "data": {
            "text/plain": [
              "<Figure size 720x360 with 1 Axes>"
            ],
            "image/png": "[encoded data removed]"
          },
          "metadata": {
            "needs_background": "light"
          }
        },
        {
          "output_type": "stream",
          "name": "stdout",
          "text": [
            "Tier 3    3350\n",
            "Tier 2    2785\n",
            "Tier 1    2388\n",
            "Name: Outlet_Location_Type, dtype: int64\n"
          ]
        }
      ]
    },
    {
      "cell_type": "markdown",
      "source": [
        "* There are more Tier 3 than Tier 1 locations. This implies there are less top locations.\n",
        "* The Outlet Location Type decreases in number moving towards the top tiers."
      ],
      "metadata": {
        "id": "0XgsD4suoXyd"
      }
    },
    {
      "cell_type": "markdown",
      "source": [
        "####***Food Item Outlet Sales by Item Type***"
      ],
      "metadata": {
        "id": "uLSZ1KH9qC2Q"
      }
    },
    {
      "cell_type": "code",
      "source": [
        "# group average food item sales by item type\n",
        "foodItem_sales = df.groupby('Item_Type')['Item_Outlet_Sales'].mean().reset_index()\n",
        "foodItem_sales"
      ],
      "metadata": {
        "colab": {
          "base_uri": "https://localhost:8080/"
        },
        "id": "2fUbnEcwBdiz",
        "outputId": "5a68715a-24b5-4df1-a44f-52789596b93c"
      },
      "execution_count": null,
      "outputs": [
        {
          "output_type": "execute_result",
          "data": {
            "text/plain": [
              "                Item_Type  Item_Outlet_Sales\n",
              "0            Baking Goods        1952.971207\n",
              "1                  Breads        2204.132226\n",
              "2               Breakfast        2111.808651\n",
              "3                  Canned        2225.194904\n",
              "4                   Dairy        2232.542597\n",
              "5            Frozen Foods        2132.867744\n",
              "6   Fruits and Vegetables        2289.009592\n",
              "7             Hard Drinks        2139.221622\n",
              "8      Health and Hygiene        2010.000265\n",
              "9               Household        2258.784300\n",
              "10                   Meat        2158.977911\n",
              "11                 Others        1926.139702\n",
              "12                Seafood        2326.065928\n",
              "13            Snack Foods        2277.321739\n",
              "14            Soft Drinks        2006.511735\n",
              "15          Starchy Foods        2374.332773"
            ],
            "text/html": [
              "\n",
              "  <div id=\"df-b9ec8f02-6da5-46f5-87ab-8606e18efbbe\">\n",
              "    <div class=\"colab-df-container\">\n",
              "      <div>\n",
              "<style scoped>\n",
              "    .dataframe tbody tr th:only-of-type {\n",
              "        vertical-align: middle;\n",
              "    }\n",
              "\n",
              "    .dataframe tbody tr th {\n",
              "        vertical-align: top;\n",
              "    }\n",
              "\n",
              "    .dataframe thead th {\n",
              "        text-align: right;\n",
              "    }\n",
              "</style>\n",
              "<table border=\"1\" class=\"dataframe\">\n",
              "  <thead>\n",
              "    <tr style=\"text-align: right;\">\n",
              "      <th></th>\n",
              "      <th>Item_Type</th>\n",
              "      <th>Item_Outlet_Sales</th>\n",
              "    </tr>\n",
              "  </thead>\n",
              "  <tbody>\n",
              "    <tr>\n",
              "      <th>0</th>\n",
              "      <td>Baking Goods</td>\n",
              "      <td>1952.971207</td>\n",
              "    </tr>\n",
              "    <tr>\n",
              "      <th>1</th>\n",
              "      <td>Breads</td>\n",
              "      <td>2204.132226</td>\n",
              "    </tr>\n",
              "    <tr>\n",
              "      <th>2</th>\n",
              "      <td>Breakfast</td>\n",
              "      <td>2111.808651</td>\n",
              "    </tr>\n",
              "    <tr>\n",
              "      <th>3</th>\n",
              "      <td>Canned</td>\n",
              "      <td>2225.194904</td>\n",
              "    </tr>\n",
              "    <tr>\n",
              "      <th>4</th>\n",
              "      <td>Dairy</td>\n",
              "      <td>2232.542597</td>\n",
              "    </tr>\n",
              "    <tr>\n",
              "      <th>5</th>\n",
              "      <td>Frozen Foods</td>\n",
              "      <td>2132.867744</td>\n",
              "    </tr>\n",
              "    <tr>\n",
              "      <th>6</th>\n",
              "      <td>Fruits and Vegetables</td>\n",
              "      <td>2289.009592</td>\n",
              "    </tr>\n",
              "    <tr>\n",
              "      <th>7</th>\n",
              "      <td>Hard Drinks</td>\n",
              "      <td>2139.221622</td>\n",
              "    </tr>\n",
              "    <tr>\n",
              "      <th>8</th>\n",
              "      <td>Health and Hygiene</td>\n",
              "      <td>2010.000265</td>\n",
              "    </tr>\n",
              "    <tr>\n",
              "      <th>9</th>\n",
              "      <td>Household</td>\n",
              "      <td>2258.784300</td>\n",
              "    </tr>\n",
              "    <tr>\n",
              "      <th>10</th>\n",
              "      <td>Meat</td>\n",
              "      <td>2158.977911</td>\n",
              "    </tr>\n",
              "    <tr>\n",
              "      <th>11</th>\n",
              "      <td>Others</td>\n",
              "      <td>1926.139702</td>\n",
              "    </tr>\n",
              "    <tr>\n",
              "      <th>12</th>\n",
              "      <td>Seafood</td>\n",
              "      <td>2326.065928</td>\n",
              "    </tr>\n",
              "    <tr>\n",
              "      <th>13</th>\n",
              "      <td>Snack Foods</td>\n",
              "      <td>2277.321739</td>\n",
              "    </tr>\n",
              "    <tr>\n",
              "      <th>14</th>\n",
              "      <td>Soft Drinks</td>\n",
              "      <td>2006.511735</td>\n",
              "    </tr>\n",
              "    <tr>\n",
              "      <th>15</th>\n",
              "      <td>Starchy Foods</td>\n",
              "      <td>2374.332773</td>\n",
              "    </tr>\n",
              "  </tbody>\n",
              "</table>\n",
              "</div>\n",
              "      <button class=\"colab-df-convert\" onclick=\"convertToInteractive('df-b9ec8f02-6da5-46f5-87ab-8606e18efbbe')\"\n",
              "              title=\"Convert this dataframe to an interactive table.\"\n",
              "              style=\"display:none;\">\n",
              "        \n",
              "  <svg xmlns=\"http://www.w3.org/2000/svg\" height=\"24px\"viewBox=\"0 0 24 24\"\n",
              "       width=\"24px\">\n",
              "    <path d=\"M0 0h24v24H0V0z\" fill=\"none\"/>\n",
              "    <path d=\"M18.56 5.44l.94 2.06.94-2.06 2.06-.94-2.06-.94-.94-2.06-.94 2.06-2.06.94zm-11 1L8.5 8.5l.94-2.06 2.06-.94-2.06-.94L8.5 2.5l-.94 2.06-2.06.94zm10 10l.94 2.06.94-2.06 2.06-.94-2.06-.94-.94-2.06-.94 2.06-2.06.94z\"/><path d=\"M17.41 7.96l-1.37-1.37c-.4-.4-.92-.59-1.43-.59-.52 0-1.04.2-1.43.59L10.3 9.45l-7.72 7.72c-.78.78-.78 2.05 0 2.83L4 21.41c.39.39.9.59 1.41.59.51 0 1.02-.2 1.41-.59l7.78-7.78 2.81-2.81c.8-.78.8-2.07 0-2.86zM5.41 20L4 18.59l7.72-7.72 1.47 1.35L5.41 20z\"/>\n",
              "  </svg>\n",
              "      </button>\n",
              "      \n",
              "  <style>\n",
              "    .colab-df-container {\n",
              "      display:flex;\n",
              "      flex-wrap:wrap;\n",
              "      gap: 12px;\n",
              "    }\n",
              "\n",
              "    .colab-df-convert {\n",
              "      background-color: #E8F0FE;\n",
              "      border: none;\n",
              "      border-radius: 50%;\n",
              "      cursor: pointer;\n",
              "      display: none;\n",
              "      fill: #1967D2;\n",
              "      height: 32px;\n",
              "      padding: 0 0 0 0;\n",
              "      width: 32px;\n",
              "    }\n",
              "\n",
              "    .colab-df-convert:hover {\n",
              "      background-color: #E2EBFA;\n",
              "      box-shadow: 0px 1px 2px rgba(60, 64, 67, 0.3), 0px 1px 3px 1px rgba(60, 64, 67, 0.15);\n",
              "      fill: #174EA6;\n",
              "    }\n",
              "\n",
              "    [theme=dark] .colab-df-convert {\n",
              "      background-color: #3B4455;\n",
              "      fill: #D2E3FC;\n",
              "    }\n",
              "\n",
              "    [theme=dark] .colab-df-convert:hover {\n",
              "      background-color: #434B5C;\n",
              "      box-shadow: 0px 1px 3px 1px rgba(0, 0, 0, 0.15);\n",
              "      filter: drop-shadow(0px 1px 2px rgba(0, 0, 0, 0.3));\n",
              "      fill: #FFFFFF;\n",
              "    }\n",
              "  </style>\n",
              "\n",
              "      <script>\n",
              "        const buttonEl =\n",
              "          document.querySelector('#df-b9ec8f02-6da5-46f5-87ab-8606e18efbbe button.colab-df-convert');\n",
              "        buttonEl.style.display =\n",
              "          google.colab.kernel.accessAllowed ? 'block' : 'none';\n",
              "\n",
              "        async function convertToInteractive(key) {\n",
              "          const element = document.querySelector('#df-b9ec8f02-6da5-46f5-87ab-8606e18efbbe');\n",
              "          const dataTable =\n",
              "            await google.colab.kernel.invokeFunction('convertToInteractive',\n",
              "                                                     [key], {});\n",
              "          if (!dataTable) return;\n",
              "\n",
              "          const docLinkHtml = 'Like what you see? Visit the ' +\n",
              "            '<a target=\"_blank\" href=https://colab.research.google.com/notebooks/data_table.ipynb>data table notebook</a>'\n",
              "            + ' to learn more about interactive tables.';\n",
              "          element.innerHTML = '';\n",
              "          dataTable['output_type'] = 'display_data';\n",
              "          await google.colab.output.renderOutput(dataTable, element);\n",
              "          const docLink = document.createElement('div');\n",
              "          docLink.innerHTML = docLinkHtml;\n",
              "          element.appendChild(docLink);\n",
              "        }\n",
              "      </script>\n",
              "    </div>\n",
              "  </div>\n",
              "  "
            ]
          },
          "metadata": {},
          "execution_count": 317
        }
      ]
    },
    {
      "cell_type": "code",
      "source": [
        "# sort in descending order\n",
        "foodItem_sales = foodItem_sales.sort_values(by='Item_Outlet_Sales',ascending=False)\n",
        "foodItem_sales"
      ],
      "metadata": {
        "colab": {
          "base_uri": "https://localhost:8080/"
        },
        "id": "vo9UmAxIB9a-",
        "outputId": "cd9990a5-0684-4ccc-f822-625bc08381d3"
      },
      "execution_count": null,
      "outputs": [
        {
          "output_type": "execute_result",
          "data": {
            "text/plain": [
              "                Item_Type  Item_Outlet_Sales\n",
              "15          Starchy Foods        2374.332773\n",
              "12                Seafood        2326.065928\n",
              "6   Fruits and Vegetables        2289.009592\n",
              "13            Snack Foods        2277.321739\n",
              "9               Household        2258.784300\n",
              "4                   Dairy        2232.542597\n",
              "3                  Canned        2225.194904\n",
              "1                  Breads        2204.132226\n",
              "10                   Meat        2158.977911\n",
              "7             Hard Drinks        2139.221622\n",
              "5            Frozen Foods        2132.867744\n",
              "2               Breakfast        2111.808651\n",
              "8      Health and Hygiene        2010.000265\n",
              "14            Soft Drinks        2006.511735\n",
              "0            Baking Goods        1952.971207\n",
              "11                 Others        1926.139702"
            ],
            "text/html": [
              "\n",
              "  <div id=\"df-c9143e60-e980-48d8-bca0-324eaffbe1cb\">\n",
              "    <div class=\"colab-df-container\">\n",
              "      <div>\n",
              "<style scoped>\n",
              "    .dataframe tbody tr th:only-of-type {\n",
              "        vertical-align: middle;\n",
              "    }\n",
              "\n",
              "    .dataframe tbody tr th {\n",
              "        vertical-align: top;\n",
              "    }\n",
              "\n",
              "    .dataframe thead th {\n",
              "        text-align: right;\n",
              "    }\n",
              "</style>\n",
              "<table border=\"1\" class=\"dataframe\">\n",
              "  <thead>\n",
              "    <tr style=\"text-align: right;\">\n",
              "      <th></th>\n",
              "      <th>Item_Type</th>\n",
              "      <th>Item_Outlet_Sales</th>\n",
              "    </tr>\n",
              "  </thead>\n",
              "  <tbody>\n",
              "    <tr>\n",
              "      <th>15</th>\n",
              "      <td>Starchy Foods</td>\n",
              "      <td>2374.332773</td>\n",
              "    </tr>\n",
              "    <tr>\n",
              "      <th>12</th>\n",
              "      <td>Seafood</td>\n",
              "      <td>2326.065928</td>\n",
              "    </tr>\n",
              "    <tr>\n",
              "      <th>6</th>\n",
              "      <td>Fruits and Vegetables</td>\n",
              "      <td>2289.009592</td>\n",
              "    </tr>\n",
              "    <tr>\n",
              "      <th>13</th>\n",
              "      <td>Snack Foods</td>\n",
              "      <td>2277.321739</td>\n",
              "    </tr>\n",
              "    <tr>\n",
              "      <th>9</th>\n",
              "      <td>Household</td>\n",
              "      <td>2258.784300</td>\n",
              "    </tr>\n",
              "    <tr>\n",
              "      <th>4</th>\n",
              "      <td>Dairy</td>\n",
              "      <td>2232.542597</td>\n",
              "    </tr>\n",
              "    <tr>\n",
              "      <th>3</th>\n",
              "      <td>Canned</td>\n",
              "      <td>2225.194904</td>\n",
              "    </tr>\n",
              "    <tr>\n",
              "      <th>1</th>\n",
              "      <td>Breads</td>\n",
              "      <td>2204.132226</td>\n",
              "    </tr>\n",
              "    <tr>\n",
              "      <th>10</th>\n",
              "      <td>Meat</td>\n",
              "      <td>2158.977911</td>\n",
              "    </tr>\n",
              "    <tr>\n",
              "      <th>7</th>\n",
              "      <td>Hard Drinks</td>\n",
              "      <td>2139.221622</td>\n",
              "    </tr>\n",
              "    <tr>\n",
              "      <th>5</th>\n",
              "      <td>Frozen Foods</td>\n",
              "      <td>2132.867744</td>\n",
              "    </tr>\n",
              "    <tr>\n",
              "      <th>2</th>\n",
              "      <td>Breakfast</td>\n",
              "      <td>2111.808651</td>\n",
              "    </tr>\n",
              "    <tr>\n",
              "      <th>8</th>\n",
              "      <td>Health and Hygiene</td>\n",
              "      <td>2010.000265</td>\n",
              "    </tr>\n",
              "    <tr>\n",
              "      <th>14</th>\n",
              "      <td>Soft Drinks</td>\n",
              "      <td>2006.511735</td>\n",
              "    </tr>\n",
              "    <tr>\n",
              "      <th>0</th>\n",
              "      <td>Baking Goods</td>\n",
              "      <td>1952.971207</td>\n",
              "    </tr>\n",
              "    <tr>\n",
              "      <th>11</th>\n",
              "      <td>Others</td>\n",
              "      <td>1926.139702</td>\n",
              "    </tr>\n",
              "  </tbody>\n",
              "</table>\n",
              "</div>\n",
              "      <button class=\"colab-df-convert\" onclick=\"convertToInteractive('df-c9143e60-e980-48d8-bca0-324eaffbe1cb')\"\n",
              "              title=\"Convert this dataframe to an interactive table.\"\n",
              "              style=\"display:none;\">\n",
              "        \n",
              "  <svg xmlns=\"http://www.w3.org/2000/svg\" height=\"24px\"viewBox=\"0 0 24 24\"\n",
              "       width=\"24px\">\n",
              "    <path d=\"M0 0h24v24H0V0z\" fill=\"none\"/>\n",
              "    <path d=\"M18.56 5.44l.94 2.06.94-2.06 2.06-.94-2.06-.94-.94-2.06-.94 2.06-2.06.94zm-11 1L8.5 8.5l.94-2.06 2.06-.94-2.06-.94L8.5 2.5l-.94 2.06-2.06.94zm10 10l.94 2.06.94-2.06 2.06-.94-2.06-.94-.94-2.06-.94 2.06-2.06.94z\"/><path d=\"M17.41 7.96l-1.37-1.37c-.4-.4-.92-.59-1.43-.59-.52 0-1.04.2-1.43.59L10.3 9.45l-7.72 7.72c-.78.78-.78 2.05 0 2.83L4 21.41c.39.39.9.59 1.41.59.51 0 1.02-.2 1.41-.59l7.78-7.78 2.81-2.81c.8-.78.8-2.07 0-2.86zM5.41 20L4 18.59l7.72-7.72 1.47 1.35L5.41 20z\"/>\n",
              "  </svg>\n",
              "      </button>\n",
              "      \n",
              "  <style>\n",
              "    .colab-df-container {\n",
              "      display:flex;\n",
              "      flex-wrap:wrap;\n",
              "      gap: 12px;\n",
              "    }\n",
              "\n",
              "    .colab-df-convert {\n",
              "      background-color: #E8F0FE;\n",
              "      border: none;\n",
              "      border-radius: 50%;\n",
              "      cursor: pointer;\n",
              "      display: none;\n",
              "      fill: #1967D2;\n",
              "      height: 32px;\n",
              "      padding: 0 0 0 0;\n",
              "      width: 32px;\n",
              "    }\n",
              "\n",
              "    .colab-df-convert:hover {\n",
              "      background-color: #E2EBFA;\n",
              "      box-shadow: 0px 1px 2px rgba(60, 64, 67, 0.3), 0px 1px 3px 1px rgba(60, 64, 67, 0.15);\n",
              "      fill: #174EA6;\n",
              "    }\n",
              "\n",
              "    [theme=dark] .colab-df-convert {\n",
              "      background-color: #3B4455;\n",
              "      fill: #D2E3FC;\n",
              "    }\n",
              "\n",
              "    [theme=dark] .colab-df-convert:hover {\n",
              "      background-color: #434B5C;\n",
              "      box-shadow: 0px 1px 3px 1px rgba(0, 0, 0, 0.15);\n",
              "      filter: drop-shadow(0px 1px 2px rgba(0, 0, 0, 0.3));\n",
              "      fill: #FFFFFF;\n",
              "    }\n",
              "  </style>\n",
              "\n",
              "      <script>\n",
              "        const buttonEl =\n",
              "          document.querySelector('#df-c9143e60-e980-48d8-bca0-324eaffbe1cb button.colab-df-convert');\n",
              "        buttonEl.style.display =\n",
              "          google.colab.kernel.accessAllowed ? 'block' : 'none';\n",
              "\n",
              "        async function convertToInteractive(key) {\n",
              "          const element = document.querySelector('#df-c9143e60-e980-48d8-bca0-324eaffbe1cb');\n",
              "          const dataTable =\n",
              "            await google.colab.kernel.invokeFunction('convertToInteractive',\n",
              "                                                     [key], {});\n",
              "          if (!dataTable) return;\n",
              "\n",
              "          const docLinkHtml = 'Like what you see? Visit the ' +\n",
              "            '<a target=\"_blank\" href=https://colab.research.google.com/notebooks/data_table.ipynb>data table notebook</a>'\n",
              "            + ' to learn more about interactive tables.';\n",
              "          element.innerHTML = '';\n",
              "          dataTable['output_type'] = 'display_data';\n",
              "          await google.colab.output.renderOutput(dataTable, element);\n",
              "          const docLink = document.createElement('div');\n",
              "          docLink.innerHTML = docLinkHtml;\n",
              "          element.appendChild(docLink);\n",
              "        }\n",
              "      </script>\n",
              "    </div>\n",
              "  </div>\n",
              "  "
            ]
          },
          "metadata": {},
          "execution_count": 318
        }
      ]
    },
    {
      "cell_type": "code",
      "source": [
        "# plot a bar plot showing average food sales by item type\n",
        "plt.figure(figsize=(12,8))\n",
        "sns.barplot(data=foodItem_sales,x='Item_Outlet_Sales', y='Item_Type');\n",
        "plt.title('Average Food Sales by Item Type',fontsize=18,fontweight='bold');"
      ],
      "metadata": {
        "colab": {
          "base_uri": "https://localhost:8080/"
        },
        "id": "eqqtHB7gKM7r",
        "outputId": "6b3ceb39-c5c5-4d08-bf3f-1e7fdbfc2f74"
      },
      "execution_count": null,
      "outputs": [
        {
          "output_type": "display_data",
          "data": {
            "text/plain": [
              "<Figure size 864x576 with 1 Axes>"
            ],
            "image/png": "[encoded data removed]"
          },
          "metadata": {
            "needs_background": "light"
          }
        }
      ]
    },
    {
      "cell_type": "markdown",
      "source": [
        "*  The average sales top items are starchy foods (such as bread), seafood,and fruits & vegetables.\n",
        "* Baking Goods are one of the least sold items, while Snacks are top of the list! Given that it takes a good amount of time to cook versus relaxing with snack food makes logical sense!"
      ],
      "metadata": {
        "id": "uLTODrqmq7kr"
      }
    },
    {
      "cell_type": "markdown",
      "source": [
        "####***EDA for Correlated Features***\n",
        "\n",
        "---\n",
        "\n",
        "####Food Item Sales by Price & Outlet Size"
      ],
      "metadata": {
        "id": "-PNMYZNRsN_U"
      }
    },
    {
      "cell_type": "code",
      "source": [
        "sns.scatterplot(data=df, x='Item_MRP', y='Item_Outlet_Sales',hue='Outlet_Size');"
      ],
      "metadata": {
        "colab": {
          "base_uri": "https://localhost:8080/"
        },
        "id": "ICMBfp7MsBGt",
        "outputId": "fe0240c9-aa9a-44ce-bc1c-1cad4957b69c"
      },
      "execution_count": null,
      "outputs": [
        {
          "output_type": "display_data",
          "data": {
            "text/plain": [
              "<Figure size 432x288 with 1 Axes>"
            ],
            "image/png": "[encoded data removed]"
          },
          "metadata": {
            "needs_background": "light"
          }
        }
      ]
    },
    {
      "cell_type": "markdown",
      "source": [
        "*  This scatter plot shows the moderate correlation between Food Item Price and Food Item Sales.\n",
        "*  There are more sales at Medium sized stores, which correlates with the highest number of Medium-sized stores."
      ],
      "metadata": {
        "id": "M6l1jaGNs1dY"
      }
    },
    {
      "cell_type": "code",
      "source": [
        "sns.lmplot(data=df, x='Item_MRP',y='Item_Outlet_Sales',hue='Outlet_Size');"
      ],
      "metadata": {
        "colab": {
          "base_uri": "https://localhost:8080/"
        },
        "id": "WCgmPHT5ZnLu",
        "outputId": "75d0b1e7-c8d9-42e4-acd6-f9c82388b92a"
      },
      "execution_count": null,
      "outputs": [
        {
          "output_type": "display_data",
          "data": {
            "text/plain": [
              "<Figure size 442.375x360 with 1 Axes>"
            ],
            "image/png": "[encoded data removed]"
          },
          "metadata": {
            "needs_background": "light"
          }
        }
      ]
    },
    {
      "cell_type": "markdown",
      "source": [
        "* This lmplot shows the line of best fit. This helps correlate the Outlet Size data fit.\n",
        "* Again, you can see the moderate positive correlation between Food Item Retail Price and Food Item Sales."
      ],
      "metadata": {
        "id": "dhAu4nW4uFHE"
      }
    },
    {
      "cell_type": "markdown",
      "source": [
        "####***HeatMap***"
      ],
      "metadata": {
        "id": "Qu8jVpXeu6An"
      }
    },
    {
      "cell_type": "code",
      "source": [
        "sns.heatmap(df.corr(),annot=True,cmap='Purples');"
      ],
      "metadata": {
        "colab": {
          "base_uri": "https://localhost:8080/"
        },
        "id": "6Q5r35pVuKqx",
        "outputId": "655c99c3-381b-4dc6-c7d7-06e9fadb0c97"
      },
      "execution_count": null,
      "outputs": [
        {
          "output_type": "display_data",
          "data": {
            "text/plain": [
              "<Figure size 432x288 with 2 Axes>"
            ],
            "image/png": "[encoded data removed]"
          },
          "metadata": {
            "needs_background": "light"
          }
        }
      ]
    },
    {
      "cell_type": "markdown",
      "source": [
        "* The only item with correlation is between Item Retail Price and Food Item Sales. These are moderately correlated.\n",
        "* Other variables show no correlation."
      ],
      "metadata": {
        "id": "dCSgnsh-vBQ8"
      }
    },
    {
      "cell_type": "markdown",
      "source": [
        "##Explanatory Visuals"
      ],
      "metadata": {
        "id": "pWo4NbNPePfl"
      }
    },
    {
      "cell_type": "code",
      "source": [],
      "metadata": {
        "id": "q6RSCHd-eTvi"
      },
      "execution_count": null,
      "outputs": []
    }
  ]
}