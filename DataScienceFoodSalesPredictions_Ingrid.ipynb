{
  "nbformat": 4,
  "nbformat_minor": 0,
  "metadata": {
    "colab": {
      "provenance": [],
      "authorship_tag": "ABX9TyMV80U34f4od4nedxoEjGxj",
      "include_colab_link": true
    },
    "kernelspec": {
      "name": "python3",
      "display_name": "Python 3"
    },
    "language_info": {
      "name": "python"
    }
  },
  "cells": [
    {
      "cell_type": "markdown",
      "metadata": {
        "id": "view-in-github",
        "colab_type": "text"
      },
      "source": [
        "<a href=\"https://colab.research.google.com/github/iarbietonilsson/food_sales_predictions/blob/main/DataScienceFoodSalesPredictions_Ingrid.ipynb\" target=\"_parent\"><img src=\"https://colab.research.google.com/assets/colab-badge.svg\" alt=\"Open In Colab\"/></a>"
      ]
    },
    {
      "cell_type": "markdown",
      "source": [
        "# Data Science Food Sales Predictions\n",
        "---\n",
        "*   Ingrid Arbieto Nelson"
      ],
      "metadata": {
        "id": "T1HKQrNPdcNd"
      }
    },
    {
      "cell_type": "code",
      "source": [],
      "metadata": {
        "id": "9H5RX_Rrd8MY"
      },
      "execution_count": null,
      "outputs": []
    },
    {
      "cell_type": "markdown",
      "source": [
        "## Loading Data"
      ],
      "metadata": {
        "id": "ygeLoScqd9LY"
      }
    },
    {
      "cell_type": "code",
      "source": [],
      "metadata": {
        "id": "1RZQwCOeeBqH"
      },
      "execution_count": null,
      "outputs": []
    },
    {
      "cell_type": "markdown",
      "source": [
        "## Data Cleaning"
      ],
      "metadata": {
        "id": "Ho99la86eCJ-"
      }
    },
    {
      "cell_type": "code",
      "source": [],
      "metadata": {
        "id": "8eV_RqoaeHEH"
      },
      "execution_count": null,
      "outputs": []
    },
    {
      "cell_type": "markdown",
      "source": [
        "##Exploratory Visuals"
      ],
      "metadata": {
        "id": "edXGLVMbeHhH"
      }
    },
    {
      "cell_type": "code",
      "source": [],
      "metadata": {
        "id": "ZyrSdr48ePDF"
      },
      "execution_count": null,
      "outputs": []
    },
    {
      "cell_type": "markdown",
      "source": [
        "##Explanatory Visuals"
      ],
      "metadata": {
        "id": "pWo4NbNPePfl"
      }
    },
    {
      "cell_type": "code",
      "source": [],
      "metadata": {
        "id": "q6RSCHd-eTvi"
      },
      "execution_count": null,
      "outputs": []
    }
  ]
}